{
 "cells": [
  {
   "cell_type": "markdown",
   "metadata": {},
   "source": [
    "## Data 1 :Local Area Unemployment Statistics: Beginning 1976\n",
    "\n",
    "The Local Area Unemployment Statistics program estimates labor force statistics (labor force, employed, unemployment, unemployment rate) for New York State civilian labor force aged 16 and up. Areas covered include, New York State, New York City, Balance of State, Metropolitan Statistical Areas, Counties, Labor Market Regions, Workforce Investment Board Areas, and cities and towns with populations of 25,000 or more. Data are not seasonally adjusted. Civilian labor force data do not include military, prison inmate, or other institutional populations.\n",
    "\n",
    "Source : https://data.ny.gov/Economic-Development/Local-Area-Unemployment-Statistics-Beginning-1976/5hyu-bdh8\n",
    "Direct Link : https://data.ny.gov/api/views/5hyu-bdh8/rows.csv?accessType=DOWNLOAD&sorting=true\n",
    "\n",
    "Size: 79452 rows × 7 columns , 3,499 KB\n",
    "\n",
    "The columns are Area,Year, Month, Labor, Force, Employed, Unemployed, Unemployment Rate\n",
    "\n",
    "## Data 2 : Unemployment Insurance Initial Claims Statewide By Month: Beginning 1971\n",
    "\n",
    "The Dataset contains monthly counts, from 1971 to present, of initial claims for regular unemployment insurance benefits.\n",
    "Initial Claims include new claims as well as subsequent additional claims filed. New claims are filed in person, by mail, telephone or other means to request a determination of entitlement to and eligibility for compensation which results in an agency generated document of an appealable monetary determination provided to the potential claimant. Additional claims are filed during an existing benefit year due to new unemployment when a break of one week or more has occurred in the claim series due to intervening employment.\n",
    "Data are provided for New York State. Counts include only state residents who file a claim (excluding out-of-state residents).\n",
    "\n",
    "Source : https://data.ny.gov/Economic-Development/Unemployment-Insurance-Initial-Claims-Statewide-By/ns8z-xewg\n",
    "Direct Link : https://data.ny.gov/api/views/ns8z-xewg/rows.csv?accessType=DOWNLOAD&sorting=true\n",
    "\n",
    "\n",
    "Size : 591 rows × 2 columns , 11 KB\n",
    "The columns are Period Ending, Initial Claims.\n",
    "\n",
    "\n",
    "Searched this data by the term 'Unemployment'.\n",
    "Data is Provided by New York State Department of Labor.\n",
    "Dataset Owner : NY Open Data \n",
    "The Data was free to use and download (No Registration required).\n",
    "It is also legal to use this data.\n",
    "\n",
    "Primary observation:\n",
    "The data is recorded monthly.\n",
    "The dataset has data on Initial Claims, Labor, Force, Employed, Unemployed, Unemployment Rate.\n",
    "\n",
    "### Hypothesis:\n",
    "1) More Unemployment leads to more unemployment insurance claims(Directly related).\n",
    "\n",
    "Answer : Yes, They are proportionally related with a correlation coefficient of 0.69.\n",
    "\n",
    "2) The Year having maximum/minimum Unemployment rate will have maximum/minimum unemployment insurance claims.\n",
    "\n",
    "Answer : Yes , Highest Unemployment Rate was 10.23% where the Unemployment claims were 162390 in Year 1976\n",
    "                and the Lowest Unemployment Rate was  4.275 %, Unemployment claims were 79953 in Year 1976.\n",
    "\n",
    "\n",
    "### Question :\n",
    "1) In which season(part of the year) the unemployment rate and claims are highest for the last 40 years?\n",
    "\n",
    "Answer : The start of the year has the highest unemployment and umemployment rate (Winter period).\n",
    "It starts increasing at the year end till feb.\n",
    "\n",
    "\n",
    "### Data Inconsistency:\n",
    "1) The two datasets have dates in different format.\n",
    "\n",
    "2) The unemployment dataset contains data area-wise (Areas covered include, New York State, New York City, Balance of State, Metropolitan Statistical Areas, Counties...) whereas The insurance claims dataset has data only for New York state.  \n",
    "\n"
   ]
  },
  {
   "cell_type": "markdown",
   "metadata": {},
   "source": [
    "# Importing Data"
   ]
  },
  {
   "cell_type": "code",
   "execution_count": 1,
   "metadata": {},
   "outputs": [],
   "source": [
    "import csv\n",
    "import pandas as pd\n",
    "import matplotlib.pyplot as plt\n",
    "from statistics import mean"
   ]
  },
  {
   "cell_type": "raw",
   "metadata": {},
   "source": [
    "file1='Index__Violent__Property__and_Firearm_Rates_By_County__Beginning_1990.csv'\n",
    "file2 = 'Local_Area_Unemployment_Statistics__Beginning_1976.csv'\n",
    "df1 = pd.read_csv(file1)\n",
    "df2 = pd.read_csv(file2)"
   ]
  },
  {
   "cell_type": "code",
   "execution_count": 2,
   "metadata": {},
   "outputs": [],
   "source": [
    "df1 = pd.read_csv('https://data.ny.gov/api/views/5hyu-bdh8/rows.csv?accessType=DOWNLOAD&sorting=true')   #From URL\n",
    "df2 = pd.read_csv('https://data.ny.gov/api/views/ns8z-xewg/rows.csv?accessType=DOWNLOAD&sorting=true')    #From URL"
   ]
  },
  {
   "cell_type": "code",
   "execution_count": 3,
   "metadata": {},
   "outputs": [
    {
     "data": {
      "text/html": [
       "<div>\n",
       "<style scoped>\n",
       "    .dataframe tbody tr th:only-of-type {\n",
       "        vertical-align: middle;\n",
       "    }\n",
       "\n",
       "    .dataframe tbody tr th {\n",
       "        vertical-align: top;\n",
       "    }\n",
       "\n",
       "    .dataframe thead th {\n",
       "        text-align: right;\n",
       "    }\n",
       "</style>\n",
       "<table border=\"1\" class=\"dataframe\">\n",
       "  <thead>\n",
       "    <tr style=\"text-align: right;\">\n",
       "      <th></th>\n",
       "      <th>Area</th>\n",
       "      <th>Year</th>\n",
       "      <th>Month</th>\n",
       "      <th>Labor Force</th>\n",
       "      <th>Employed</th>\n",
       "      <th>Unemployed</th>\n",
       "      <th>Unemployment Rate</th>\n",
       "    </tr>\n",
       "  </thead>\n",
       "  <tbody>\n",
       "    <tr>\n",
       "      <td>0</td>\n",
       "      <td>Albany City</td>\n",
       "      <td>2020</td>\n",
       "      <td>3</td>\n",
       "      <td>46800</td>\n",
       "      <td>44700</td>\n",
       "      <td>2100</td>\n",
       "      <td>4.4</td>\n",
       "    </tr>\n",
       "    <tr>\n",
       "      <td>1</td>\n",
       "      <td>Albany City</td>\n",
       "      <td>2020</td>\n",
       "      <td>2</td>\n",
       "      <td>47100</td>\n",
       "      <td>45200</td>\n",
       "      <td>1900</td>\n",
       "      <td>4.1</td>\n",
       "    </tr>\n",
       "    <tr>\n",
       "      <td>2</td>\n",
       "      <td>Albany City</td>\n",
       "      <td>2020</td>\n",
       "      <td>1</td>\n",
       "      <td>47100</td>\n",
       "      <td>45000</td>\n",
       "      <td>2100</td>\n",
       "      <td>4.5</td>\n",
       "    </tr>\n",
       "    <tr>\n",
       "      <td>3</td>\n",
       "      <td>Albany City</td>\n",
       "      <td>2019</td>\n",
       "      <td>12</td>\n",
       "      <td>46600</td>\n",
       "      <td>44600</td>\n",
       "      <td>2000</td>\n",
       "      <td>4.3</td>\n",
       "    </tr>\n",
       "    <tr>\n",
       "      <td>4</td>\n",
       "      <td>Albany City</td>\n",
       "      <td>2019</td>\n",
       "      <td>11</td>\n",
       "      <td>47000</td>\n",
       "      <td>45000</td>\n",
       "      <td>2000</td>\n",
       "      <td>4.3</td>\n",
       "    </tr>\n",
       "    <tr>\n",
       "      <td>...</td>\n",
       "      <td>...</td>\n",
       "      <td>...</td>\n",
       "      <td>...</td>\n",
       "      <td>...</td>\n",
       "      <td>...</td>\n",
       "      <td>...</td>\n",
       "      <td>...</td>\n",
       "    </tr>\n",
       "    <tr>\n",
       "      <td>79447</td>\n",
       "      <td>Yorktown Town</td>\n",
       "      <td>1990</td>\n",
       "      <td>5</td>\n",
       "      <td>18200</td>\n",
       "      <td>17800</td>\n",
       "      <td>400</td>\n",
       "      <td>2.3</td>\n",
       "    </tr>\n",
       "    <tr>\n",
       "      <td>79448</td>\n",
       "      <td>Yorktown Town</td>\n",
       "      <td>1990</td>\n",
       "      <td>4</td>\n",
       "      <td>18100</td>\n",
       "      <td>17700</td>\n",
       "      <td>400</td>\n",
       "      <td>2.2</td>\n",
       "    </tr>\n",
       "    <tr>\n",
       "      <td>79449</td>\n",
       "      <td>Yorktown Town</td>\n",
       "      <td>1990</td>\n",
       "      <td>3</td>\n",
       "      <td>18100</td>\n",
       "      <td>17700</td>\n",
       "      <td>400</td>\n",
       "      <td>2.3</td>\n",
       "    </tr>\n",
       "    <tr>\n",
       "      <td>79450</td>\n",
       "      <td>Yorktown Town</td>\n",
       "      <td>1990</td>\n",
       "      <td>2</td>\n",
       "      <td>18000</td>\n",
       "      <td>17600</td>\n",
       "      <td>400</td>\n",
       "      <td>2.5</td>\n",
       "    </tr>\n",
       "    <tr>\n",
       "      <td>79451</td>\n",
       "      <td>Yorktown Town</td>\n",
       "      <td>1990</td>\n",
       "      <td>1</td>\n",
       "      <td>18100</td>\n",
       "      <td>17600</td>\n",
       "      <td>400</td>\n",
       "      <td>2.4</td>\n",
       "    </tr>\n",
       "  </tbody>\n",
       "</table>\n",
       "<p>79452 rows × 7 columns</p>\n",
       "</div>"
      ],
      "text/plain": [
       "                Area  Year  Month  Labor Force  Employed  Unemployed  \\\n",
       "0        Albany City  2020      3        46800     44700        2100   \n",
       "1        Albany City  2020      2        47100     45200        1900   \n",
       "2        Albany City  2020      1        47100     45000        2100   \n",
       "3        Albany City  2019     12        46600     44600        2000   \n",
       "4        Albany City  2019     11        47000     45000        2000   \n",
       "...              ...   ...    ...          ...       ...         ...   \n",
       "79447  Yorktown Town  1990      5        18200     17800         400   \n",
       "79448  Yorktown Town  1990      4        18100     17700         400   \n",
       "79449  Yorktown Town  1990      3        18100     17700         400   \n",
       "79450  Yorktown Town  1990      2        18000     17600         400   \n",
       "79451  Yorktown Town  1990      1        18100     17600         400   \n",
       "\n",
       "       Unemployment Rate                                                                                                                                                                        \n",
       "0                                                    4.4                                                                                                                                        \n",
       "1                                                    4.1                                                                                                                                        \n",
       "2                                                    4.5                                                                                                                                        \n",
       "3                                                    4.3                                                                                                                                        \n",
       "4                                                    4.3                                                                                                                                        \n",
       "...                                                  ...                                                                                                                                        \n",
       "79447                                                2.3                                                                                                                                        \n",
       "79448                                                2.2                                                                                                                                        \n",
       "79449                                                2.3                                                                                                                                        \n",
       "79450                                                2.5                                                                                                                                        \n",
       "79451                                                2.4                                                                                                                                        \n",
       "\n",
       "[79452 rows x 7 columns]"
      ]
     },
     "execution_count": 3,
     "metadata": {},
     "output_type": "execute_result"
    }
   ],
   "source": [
    "df1"
   ]
  },
  {
   "cell_type": "code",
   "execution_count": 4,
   "metadata": {},
   "outputs": [
    {
     "data": {
      "text/html": [
       "<div>\n",
       "<style scoped>\n",
       "    .dataframe tbody tr th:only-of-type {\n",
       "        vertical-align: middle;\n",
       "    }\n",
       "\n",
       "    .dataframe tbody tr th {\n",
       "        vertical-align: top;\n",
       "    }\n",
       "\n",
       "    .dataframe thead th {\n",
       "        text-align: right;\n",
       "    }\n",
       "</style>\n",
       "<table border=\"1\" class=\"dataframe\">\n",
       "  <thead>\n",
       "    <tr style=\"text-align: right;\">\n",
       "      <th></th>\n",
       "      <th>Period Ending</th>\n",
       "      <th>Initial Claims</th>\n",
       "    </tr>\n",
       "  </thead>\n",
       "  <tbody>\n",
       "    <tr>\n",
       "      <td>0</td>\n",
       "      <td>04/30/2020</td>\n",
       "      <td>1168446</td>\n",
       "    </tr>\n",
       "    <tr>\n",
       "      <td>1</td>\n",
       "      <td>03/31/2020</td>\n",
       "      <td>663655</td>\n",
       "    </tr>\n",
       "    <tr>\n",
       "      <td>2</td>\n",
       "      <td>02/29/2020</td>\n",
       "      <td>74202</td>\n",
       "    </tr>\n",
       "    <tr>\n",
       "      <td>3</td>\n",
       "      <td>01/31/2020</td>\n",
       "      <td>78414</td>\n",
       "    </tr>\n",
       "    <tr>\n",
       "      <td>4</td>\n",
       "      <td>12/31/2019</td>\n",
       "      <td>113097</td>\n",
       "    </tr>\n",
       "    <tr>\n",
       "      <td>...</td>\n",
       "      <td>...</td>\n",
       "      <td>...</td>\n",
       "    </tr>\n",
       "    <tr>\n",
       "      <td>587</td>\n",
       "      <td>05/31/1971</td>\n",
       "      <td>127409</td>\n",
       "    </tr>\n",
       "    <tr>\n",
       "      <td>588</td>\n",
       "      <td>04/30/1971</td>\n",
       "      <td>134342</td>\n",
       "    </tr>\n",
       "    <tr>\n",
       "      <td>589</td>\n",
       "      <td>03/31/1971</td>\n",
       "      <td>142435</td>\n",
       "    </tr>\n",
       "    <tr>\n",
       "      <td>590</td>\n",
       "      <td>02/28/1971</td>\n",
       "      <td>140364</td>\n",
       "    </tr>\n",
       "    <tr>\n",
       "      <td>591</td>\n",
       "      <td>01/31/1971</td>\n",
       "      <td>172620</td>\n",
       "    </tr>\n",
       "  </tbody>\n",
       "</table>\n",
       "<p>592 rows × 2 columns</p>\n",
       "</div>"
      ],
      "text/plain": [
       "    Period Ending  Initial Claims\n",
       "0      04/30/2020         1168446\n",
       "1      03/31/2020          663655\n",
       "2      02/29/2020           74202\n",
       "3      01/31/2020           78414\n",
       "4      12/31/2019          113097\n",
       "..            ...             ...\n",
       "587    05/31/1971          127409\n",
       "588    04/30/1971          134342\n",
       "589    03/31/1971          142435\n",
       "590    02/28/1971          140364\n",
       "591    01/31/1971          172620\n",
       "\n",
       "[592 rows x 2 columns]"
      ]
     },
     "execution_count": 4,
     "metadata": {},
     "output_type": "execute_result"
    }
   ],
   "source": [
    "df2"
   ]
  },
  {
   "cell_type": "markdown",
   "metadata": {},
   "source": [
    "### Cleaning 1st Data"
   ]
  },
  {
   "cell_type": "code",
   "execution_count": 5,
   "metadata": {},
   "outputs": [
    {
     "name": "stdout",
     "output_type": "stream",
     "text": [
      "<class 'pandas.core.frame.DataFrame'>\n",
      "RangeIndex: 79452 entries, 0 to 79451\n",
      "Data columns (total 7 columns):\n",
      "Area                                                                                                                                                                                       79452 non-null object\n",
      "Year                                                                                                                                                                                       79452 non-null int64\n",
      "Month                                                                                                                                                                                      79452 non-null int64\n",
      "Labor Force                                                                                                                                                                                79452 non-null int64\n",
      "Employed                                                                                                                                                                                   79452 non-null int64\n",
      "Unemployed                                                                                                                                                                                 79452 non-null int64\n",
      "Unemployment Rate                                                                                                                                                                          79452 non-null float64\n",
      "dtypes: float64(1), int64(5), object(1)\n",
      "memory usage: 4.2+ MB\n"
     ]
    }
   ],
   "source": [
    "df1.info()"
   ]
  },
  {
   "cell_type": "code",
   "execution_count": 6,
   "metadata": {},
   "outputs": [
    {
     "data": {
      "text/plain": [
       "Index(['Area', 'Year', 'Month', 'Labor Force', 'Employed', 'Unemployed',\n",
       "       'Unemployment Rate                                                                                                                                                                      '],\n",
       "      dtype='object')"
      ]
     },
     "execution_count": 6,
     "metadata": {},
     "output_type": "execute_result"
    }
   ],
   "source": [
    "df1.columns"
   ]
  },
  {
   "cell_type": "code",
   "execution_count": 7,
   "metadata": {},
   "outputs": [],
   "source": [
    "df1.rename(columns={'Unemployment Rate                                                                                                                                                                      ':'Unemployment Rate'}, \n",
    "                 \n",
    "                 inplace=True)"
   ]
  },
  {
   "cell_type": "code",
   "execution_count": 8,
   "metadata": {},
   "outputs": [
    {
     "data": {
      "text/plain": [
       "Area                 0\n",
       "Year                 0\n",
       "Month                0\n",
       "Labor Force          0\n",
       "Employed             0\n",
       "Unemployed           0\n",
       "Unemployment Rate    0\n",
       "dtype: int64"
      ]
     },
     "execution_count": 8,
     "metadata": {},
     "output_type": "execute_result"
    }
   ],
   "source": [
    "df1.isna().sum()          # To check null values in Columns"
   ]
  },
  {
   "cell_type": "code",
   "execution_count": 9,
   "metadata": {},
   "outputs": [
    {
     "data": {
      "text/html": [
       "<div>\n",
       "<style scoped>\n",
       "    .dataframe tbody tr th:only-of-type {\n",
       "        vertical-align: middle;\n",
       "    }\n",
       "\n",
       "    .dataframe tbody tr th {\n",
       "        vertical-align: top;\n",
       "    }\n",
       "\n",
       "    .dataframe thead th {\n",
       "        text-align: right;\n",
       "    }\n",
       "</style>\n",
       "<table border=\"1\" class=\"dataframe\">\n",
       "  <thead>\n",
       "    <tr style=\"text-align: right;\">\n",
       "      <th></th>\n",
       "      <th>Year</th>\n",
       "      <th>Month</th>\n",
       "      <th>Labor Force</th>\n",
       "      <th>Employed</th>\n",
       "      <th>Unemployed</th>\n",
       "      <th>Unemployment Rate</th>\n",
       "    </tr>\n",
       "  </thead>\n",
       "  <tbody>\n",
       "    <tr>\n",
       "      <td>count</td>\n",
       "      <td>79452.000000</td>\n",
       "      <td>79452.000000</td>\n",
       "      <td>7.945200e+04</td>\n",
       "      <td>7.945200e+04</td>\n",
       "      <td>79452.000000</td>\n",
       "      <td>79452.000000</td>\n",
       "    </tr>\n",
       "    <tr>\n",
       "      <td>mean</td>\n",
       "      <td>2004.590092</td>\n",
       "      <td>6.462619</td>\n",
       "      <td>2.908373e+05</td>\n",
       "      <td>2.729429e+05</td>\n",
       "      <td>17895.127876</td>\n",
       "      <td>5.543351</td>\n",
       "    </tr>\n",
       "    <tr>\n",
       "      <td>std</td>\n",
       "      <td>8.900447</td>\n",
       "      <td>3.462684</td>\n",
       "      <td>9.738323e+05</td>\n",
       "      <td>9.116490e+05</td>\n",
       "      <td>65136.482122</td>\n",
       "      <td>2.033038</td>\n",
       "    </tr>\n",
       "    <tr>\n",
       "      <td>min</td>\n",
       "      <td>1976.000000</td>\n",
       "      <td>1.000000</td>\n",
       "      <td>2.000000e+03</td>\n",
       "      <td>1.900000e+03</td>\n",
       "      <td>100.000000</td>\n",
       "      <td>1.300000</td>\n",
       "    </tr>\n",
       "    <tr>\n",
       "      <td>25%</td>\n",
       "      <td>1997.000000</td>\n",
       "      <td>3.000000</td>\n",
       "      <td>1.940000e+04</td>\n",
       "      <td>1.840000e+04</td>\n",
       "      <td>1000.000000</td>\n",
       "      <td>4.000000</td>\n",
       "    </tr>\n",
       "    <tr>\n",
       "      <td>50%</td>\n",
       "      <td>2005.000000</td>\n",
       "      <td>6.000000</td>\n",
       "      <td>4.380000e+04</td>\n",
       "      <td>4.130000e+04</td>\n",
       "      <td>2300.000000</td>\n",
       "      <td>5.100000</td>\n",
       "    </tr>\n",
       "    <tr>\n",
       "      <td>75%</td>\n",
       "      <td>2012.000000</td>\n",
       "      <td>9.000000</td>\n",
       "      <td>1.403000e+05</td>\n",
       "      <td>1.316250e+05</td>\n",
       "      <td>7300.000000</td>\n",
       "      <td>6.800000</td>\n",
       "    </tr>\n",
       "    <tr>\n",
       "      <td>max</td>\n",
       "      <td>2020.000000</td>\n",
       "      <td>12.000000</td>\n",
       "      <td>9.824400e+06</td>\n",
       "      <td>9.279100e+06</td>\n",
       "      <td>913400.000000</td>\n",
       "      <td>18.300000</td>\n",
       "    </tr>\n",
       "  </tbody>\n",
       "</table>\n",
       "</div>"
      ],
      "text/plain": [
       "               Year         Month   Labor Force      Employed     Unemployed  \\\n",
       "count  79452.000000  79452.000000  7.945200e+04  7.945200e+04   79452.000000   \n",
       "mean    2004.590092      6.462619  2.908373e+05  2.729429e+05   17895.127876   \n",
       "std        8.900447      3.462684  9.738323e+05  9.116490e+05   65136.482122   \n",
       "min     1976.000000      1.000000  2.000000e+03  1.900000e+03     100.000000   \n",
       "25%     1997.000000      3.000000  1.940000e+04  1.840000e+04    1000.000000   \n",
       "50%     2005.000000      6.000000  4.380000e+04  4.130000e+04    2300.000000   \n",
       "75%     2012.000000      9.000000  1.403000e+05  1.316250e+05    7300.000000   \n",
       "max     2020.000000     12.000000  9.824400e+06  9.279100e+06  913400.000000   \n",
       "\n",
       "       Unemployment Rate  \n",
       "count       79452.000000  \n",
       "mean            5.543351  \n",
       "std             2.033038  \n",
       "min             1.300000  \n",
       "25%             4.000000  \n",
       "50%             5.100000  \n",
       "75%             6.800000  \n",
       "max            18.300000  "
      ]
     },
     "execution_count": 9,
     "metadata": {},
     "output_type": "execute_result"
    }
   ],
   "source": [
    "df1.describe() #Checking range for valid values"
   ]
  },
  {
   "cell_type": "code",
   "execution_count": 10,
   "metadata": {},
   "outputs": [
    {
     "data": {
      "text/plain": [
       "894"
      ]
     },
     "execution_count": 10,
     "metadata": {},
     "output_type": "execute_result"
    }
   ],
   "source": [
    "df1[df1.duplicated()].shape[0]        #Checking Duplicate Data "
   ]
  },
  {
   "cell_type": "code",
   "execution_count": 11,
   "metadata": {},
   "outputs": [
    {
     "data": {
      "text/html": [
       "<div>\n",
       "<style scoped>\n",
       "    .dataframe tbody tr th:only-of-type {\n",
       "        vertical-align: middle;\n",
       "    }\n",
       "\n",
       "    .dataframe tbody tr th {\n",
       "        vertical-align: top;\n",
       "    }\n",
       "\n",
       "    .dataframe thead th {\n",
       "        text-align: right;\n",
       "    }\n",
       "</style>\n",
       "<table border=\"1\" class=\"dataframe\">\n",
       "  <thead>\n",
       "    <tr style=\"text-align: right;\">\n",
       "      <th></th>\n",
       "      <th>Area</th>\n",
       "      <th>Year</th>\n",
       "      <th>Month</th>\n",
       "      <th>Labor Force</th>\n",
       "      <th>Employed</th>\n",
       "      <th>Unemployed</th>\n",
       "      <th>Unemployment Rate</th>\n",
       "    </tr>\n",
       "  </thead>\n",
       "  <tbody>\n",
       "    <tr>\n",
       "      <td>42403</td>\n",
       "      <td>New York City</td>\n",
       "      <td>2020</td>\n",
       "      <td>3</td>\n",
       "      <td>3986100</td>\n",
       "      <td>3817100</td>\n",
       "      <td>169000</td>\n",
       "      <td>4.2</td>\n",
       "    </tr>\n",
       "    <tr>\n",
       "      <td>42404</td>\n",
       "      <td>New York City</td>\n",
       "      <td>2020</td>\n",
       "      <td>3</td>\n",
       "      <td>3986100</td>\n",
       "      <td>3817100</td>\n",
       "      <td>169000</td>\n",
       "      <td>4.2</td>\n",
       "    </tr>\n",
       "    <tr>\n",
       "      <td>42406</td>\n",
       "      <td>New York City</td>\n",
       "      <td>2020</td>\n",
       "      <td>2</td>\n",
       "      <td>4080800</td>\n",
       "      <td>3942200</td>\n",
       "      <td>138600</td>\n",
       "      <td>3.4</td>\n",
       "    </tr>\n",
       "    <tr>\n",
       "      <td>42407</td>\n",
       "      <td>New York City</td>\n",
       "      <td>2020</td>\n",
       "      <td>2</td>\n",
       "      <td>4080800</td>\n",
       "      <td>3942200</td>\n",
       "      <td>138600</td>\n",
       "      <td>3.4</td>\n",
       "    </tr>\n",
       "    <tr>\n",
       "      <td>42409</td>\n",
       "      <td>New York City</td>\n",
       "      <td>2020</td>\n",
       "      <td>1</td>\n",
       "      <td>4028500</td>\n",
       "      <td>3885600</td>\n",
       "      <td>142800</td>\n",
       "      <td>3.5</td>\n",
       "    </tr>\n",
       "    <tr>\n",
       "      <td>...</td>\n",
       "      <td>...</td>\n",
       "      <td>...</td>\n",
       "      <td>...</td>\n",
       "      <td>...</td>\n",
       "      <td>...</td>\n",
       "      <td>...</td>\n",
       "      <td>...</td>\n",
       "    </tr>\n",
       "    <tr>\n",
       "      <td>43818</td>\n",
       "      <td>New York City</td>\n",
       "      <td>1976</td>\n",
       "      <td>5</td>\n",
       "      <td>3050300</td>\n",
       "      <td>2748500</td>\n",
       "      <td>301800</td>\n",
       "      <td>9.9</td>\n",
       "    </tr>\n",
       "    <tr>\n",
       "      <td>43820</td>\n",
       "      <td>New York City</td>\n",
       "      <td>1976</td>\n",
       "      <td>4</td>\n",
       "      <td>3082800</td>\n",
       "      <td>2764700</td>\n",
       "      <td>318100</td>\n",
       "      <td>10.3</td>\n",
       "    </tr>\n",
       "    <tr>\n",
       "      <td>43822</td>\n",
       "      <td>New York City</td>\n",
       "      <td>1976</td>\n",
       "      <td>3</td>\n",
       "      <td>3104400</td>\n",
       "      <td>2771000</td>\n",
       "      <td>333300</td>\n",
       "      <td>10.7</td>\n",
       "    </tr>\n",
       "    <tr>\n",
       "      <td>43824</td>\n",
       "      <td>New York City</td>\n",
       "      <td>1976</td>\n",
       "      <td>2</td>\n",
       "      <td>3125100</td>\n",
       "      <td>2762400</td>\n",
       "      <td>362700</td>\n",
       "      <td>11.6</td>\n",
       "    </tr>\n",
       "    <tr>\n",
       "      <td>43826</td>\n",
       "      <td>New York City</td>\n",
       "      <td>1976</td>\n",
       "      <td>1</td>\n",
       "      <td>3114200</td>\n",
       "      <td>2757200</td>\n",
       "      <td>357000</td>\n",
       "      <td>11.5</td>\n",
       "    </tr>\n",
       "  </tbody>\n",
       "</table>\n",
       "<p>894 rows × 7 columns</p>\n",
       "</div>"
      ],
      "text/plain": [
       "                Area  Year  Month  Labor Force  Employed  Unemployed  \\\n",
       "42403  New York City  2020      3      3986100   3817100      169000   \n",
       "42404  New York City  2020      3      3986100   3817100      169000   \n",
       "42406  New York City  2020      2      4080800   3942200      138600   \n",
       "42407  New York City  2020      2      4080800   3942200      138600   \n",
       "42409  New York City  2020      1      4028500   3885600      142800   \n",
       "...              ...   ...    ...          ...       ...         ...   \n",
       "43818  New York City  1976      5      3050300   2748500      301800   \n",
       "43820  New York City  1976      4      3082800   2764700      318100   \n",
       "43822  New York City  1976      3      3104400   2771000      333300   \n",
       "43824  New York City  1976      2      3125100   2762400      362700   \n",
       "43826  New York City  1976      1      3114200   2757200      357000   \n",
       "\n",
       "       Unemployment Rate  \n",
       "42403                4.2  \n",
       "42404                4.2  \n",
       "42406                3.4  \n",
       "42407                3.4  \n",
       "42409                3.5  \n",
       "...                  ...  \n",
       "43818                9.9  \n",
       "43820               10.3  \n",
       "43822               10.7  \n",
       "43824               11.6  \n",
       "43826               11.5  \n",
       "\n",
       "[894 rows x 7 columns]"
      ]
     },
     "execution_count": 11,
     "metadata": {},
     "output_type": "execute_result"
    }
   ],
   "source": [
    "df1[df1.duplicated( [ 'Area','Year','Month' ])]       #Duplicate Data "
   ]
  },
  {
   "cell_type": "code",
   "execution_count": 12,
   "metadata": {},
   "outputs": [],
   "source": [
    "df1.drop_duplicates(inplace = True)     #Dropping Duplicate Data "
   ]
  },
  {
   "cell_type": "markdown",
   "metadata": {},
   "source": [
    "### Cleaning 2nd Data"
   ]
  },
  {
   "cell_type": "code",
   "execution_count": 13,
   "metadata": {},
   "outputs": [
    {
     "data": {
      "text/plain": [
       "Period Ending     0\n",
       "Initial Claims    0\n",
       "dtype: int64"
      ]
     },
     "execution_count": 13,
     "metadata": {},
     "output_type": "execute_result"
    }
   ],
   "source": [
    "df2.isna().sum() # To check null values in Columns"
   ]
  },
  {
   "cell_type": "code",
   "execution_count": 14,
   "metadata": {},
   "outputs": [
    {
     "name": "stdout",
     "output_type": "stream",
     "text": [
      "<class 'pandas.core.frame.DataFrame'>\n",
      "RangeIndex: 592 entries, 0 to 591\n",
      "Data columns (total 2 columns):\n",
      "Period Ending     592 non-null object\n",
      "Initial Claims    592 non-null int64\n",
      "dtypes: int64(1), object(1)\n",
      "memory usage: 9.4+ KB\n"
     ]
    }
   ],
   "source": [
    "df2.info()"
   ]
  },
  {
   "cell_type": "code",
   "execution_count": 15,
   "metadata": {},
   "outputs": [
    {
     "data": {
      "text/html": [
       "<div>\n",
       "<style scoped>\n",
       "    .dataframe tbody tr th:only-of-type {\n",
       "        vertical-align: middle;\n",
       "    }\n",
       "\n",
       "    .dataframe tbody tr th {\n",
       "        vertical-align: top;\n",
       "    }\n",
       "\n",
       "    .dataframe thead th {\n",
       "        text-align: right;\n",
       "    }\n",
       "</style>\n",
       "<table border=\"1\" class=\"dataframe\">\n",
       "  <thead>\n",
       "    <tr style=\"text-align: right;\">\n",
       "      <th></th>\n",
       "      <th>Initial Claims</th>\n",
       "    </tr>\n",
       "  </thead>\n",
       "  <tbody>\n",
       "    <tr>\n",
       "      <td>count</td>\n",
       "      <td>5.920000e+02</td>\n",
       "    </tr>\n",
       "    <tr>\n",
       "      <td>mean</td>\n",
       "      <td>1.109375e+05</td>\n",
       "    </tr>\n",
       "    <tr>\n",
       "      <td>std</td>\n",
       "      <td>6.067538e+04</td>\n",
       "    </tr>\n",
       "    <tr>\n",
       "      <td>min</td>\n",
       "      <td>4.926300e+04</td>\n",
       "    </tr>\n",
       "    <tr>\n",
       "      <td>25%</td>\n",
       "      <td>8.141625e+04</td>\n",
       "    </tr>\n",
       "    <tr>\n",
       "      <td>50%</td>\n",
       "      <td>9.953750e+04</td>\n",
       "    </tr>\n",
       "    <tr>\n",
       "      <td>75%</td>\n",
       "      <td>1.294675e+05</td>\n",
       "    </tr>\n",
       "    <tr>\n",
       "      <td>max</td>\n",
       "      <td>1.168446e+06</td>\n",
       "    </tr>\n",
       "  </tbody>\n",
       "</table>\n",
       "</div>"
      ],
      "text/plain": [
       "       Initial Claims\n",
       "count    5.920000e+02\n",
       "mean     1.109375e+05\n",
       "std      6.067538e+04\n",
       "min      4.926300e+04\n",
       "25%      8.141625e+04\n",
       "50%      9.953750e+04\n",
       "75%      1.294675e+05\n",
       "max      1.168446e+06"
      ]
     },
     "execution_count": 15,
     "metadata": {},
     "output_type": "execute_result"
    }
   ],
   "source": [
    "df2.describe()  #Checking range for valid values"
   ]
  },
  {
   "cell_type": "code",
   "execution_count": 16,
   "metadata": {},
   "outputs": [
    {
     "data": {
      "text/plain": [
       "0"
      ]
     },
     "execution_count": 16,
     "metadata": {},
     "output_type": "execute_result"
    }
   ],
   "source": [
    "df2[df2.duplicated()].shape[0]        #Checking Duplicate Data "
   ]
  },
  {
   "cell_type": "code",
   "execution_count": 17,
   "metadata": {},
   "outputs": [
    {
     "data": {
      "text/plain": [
       "Index(['Period Ending', 'Initial Claims'], dtype='object')"
      ]
     },
     "execution_count": 17,
     "metadata": {},
     "output_type": "execute_result"
    }
   ],
   "source": [
    "df2.columns"
   ]
  },
  {
   "cell_type": "code",
   "execution_count": 18,
   "metadata": {},
   "outputs": [
    {
     "data": {
      "text/html": [
       "<div>\n",
       "<style scoped>\n",
       "    .dataframe tbody tr th:only-of-type {\n",
       "        vertical-align: middle;\n",
       "    }\n",
       "\n",
       "    .dataframe tbody tr th {\n",
       "        vertical-align: top;\n",
       "    }\n",
       "\n",
       "    .dataframe thead th {\n",
       "        text-align: right;\n",
       "    }\n",
       "</style>\n",
       "<table border=\"1\" class=\"dataframe\">\n",
       "  <thead>\n",
       "    <tr style=\"text-align: right;\">\n",
       "      <th></th>\n",
       "      <th>Period Ending</th>\n",
       "      <th>Initial Claims</th>\n",
       "    </tr>\n",
       "  </thead>\n",
       "  <tbody>\n",
       "    <tr>\n",
       "      <td>0</td>\n",
       "      <td>04/30/2020</td>\n",
       "      <td>1168446</td>\n",
       "    </tr>\n",
       "    <tr>\n",
       "      <td>1</td>\n",
       "      <td>03/31/2020</td>\n",
       "      <td>663655</td>\n",
       "    </tr>\n",
       "    <tr>\n",
       "      <td>2</td>\n",
       "      <td>02/29/2020</td>\n",
       "      <td>74202</td>\n",
       "    </tr>\n",
       "    <tr>\n",
       "      <td>3</td>\n",
       "      <td>01/31/2020</td>\n",
       "      <td>78414</td>\n",
       "    </tr>\n",
       "    <tr>\n",
       "      <td>4</td>\n",
       "      <td>12/31/2019</td>\n",
       "      <td>113097</td>\n",
       "    </tr>\n",
       "  </tbody>\n",
       "</table>\n",
       "</div>"
      ],
      "text/plain": [
       "  Period Ending  Initial Claims\n",
       "0    04/30/2020         1168446\n",
       "1    03/31/2020          663655\n",
       "2    02/29/2020           74202\n",
       "3    01/31/2020           78414\n",
       "4    12/31/2019          113097"
      ]
     },
     "execution_count": 18,
     "metadata": {},
     "output_type": "execute_result"
    }
   ],
   "source": [
    "df2.head()"
   ]
  },
  {
   "cell_type": "code",
   "execution_count": 19,
   "metadata": {},
   "outputs": [
    {
     "data": {
      "text/html": [
       "<div>\n",
       "<style scoped>\n",
       "    .dataframe tbody tr th:only-of-type {\n",
       "        vertical-align: middle;\n",
       "    }\n",
       "\n",
       "    .dataframe tbody tr th {\n",
       "        vertical-align: top;\n",
       "    }\n",
       "\n",
       "    .dataframe thead th {\n",
       "        text-align: right;\n",
       "    }\n",
       "</style>\n",
       "<table border=\"1\" class=\"dataframe\">\n",
       "  <thead>\n",
       "    <tr style=\"text-align: right;\">\n",
       "      <th></th>\n",
       "      <th>Period Ending</th>\n",
       "      <th>Initial Claims</th>\n",
       "    </tr>\n",
       "  </thead>\n",
       "  <tbody>\n",
       "    <tr>\n",
       "      <td>587</td>\n",
       "      <td>05/31/1971</td>\n",
       "      <td>127409</td>\n",
       "    </tr>\n",
       "    <tr>\n",
       "      <td>588</td>\n",
       "      <td>04/30/1971</td>\n",
       "      <td>134342</td>\n",
       "    </tr>\n",
       "    <tr>\n",
       "      <td>589</td>\n",
       "      <td>03/31/1971</td>\n",
       "      <td>142435</td>\n",
       "    </tr>\n",
       "    <tr>\n",
       "      <td>590</td>\n",
       "      <td>02/28/1971</td>\n",
       "      <td>140364</td>\n",
       "    </tr>\n",
       "    <tr>\n",
       "      <td>591</td>\n",
       "      <td>01/31/1971</td>\n",
       "      <td>172620</td>\n",
       "    </tr>\n",
       "  </tbody>\n",
       "</table>\n",
       "</div>"
      ],
      "text/plain": [
       "    Period Ending  Initial Claims\n",
       "587    05/31/1971          127409\n",
       "588    04/30/1971          134342\n",
       "589    03/31/1971          142435\n",
       "590    02/28/1971          140364\n",
       "591    01/31/1971          172620"
      ]
     },
     "execution_count": 19,
     "metadata": {},
     "output_type": "execute_result"
    }
   ],
   "source": [
    "df2.tail()"
   ]
  },
  {
   "cell_type": "code",
   "execution_count": 20,
   "metadata": {},
   "outputs": [],
   "source": [
    "df2[[ 'Month' ,'Date', 'Year' ]] = df2[ 'Period Ending' ].str.split( '/' ,  expand=True )       #Splitting the Date into month year and date\n",
    "df2.drop( columns = [ 'Period Ending' , 'Date' ], inplace = True)                          # dropped date as only month and year is needed"
   ]
  },
  {
   "cell_type": "code",
   "execution_count": 21,
   "metadata": {},
   "outputs": [],
   "source": [
    "df2.Month = df2.Month.astype(int)  #converting datatype to int \n",
    "df2.Year = df2.Year.astype(int)"
   ]
  },
  {
   "cell_type": "code",
   "execution_count": 22,
   "metadata": {},
   "outputs": [
    {
     "data": {
      "text/html": [
       "<div>\n",
       "<style scoped>\n",
       "    .dataframe tbody tr th:only-of-type {\n",
       "        vertical-align: middle;\n",
       "    }\n",
       "\n",
       "    .dataframe tbody tr th {\n",
       "        vertical-align: top;\n",
       "    }\n",
       "\n",
       "    .dataframe thead th {\n",
       "        text-align: right;\n",
       "    }\n",
       "</style>\n",
       "<table border=\"1\" class=\"dataframe\">\n",
       "  <thead>\n",
       "    <tr style=\"text-align: right;\">\n",
       "      <th></th>\n",
       "      <th>Initial Claims</th>\n",
       "      <th>Month</th>\n",
       "      <th>Year</th>\n",
       "    </tr>\n",
       "  </thead>\n",
       "  <tbody>\n",
       "    <tr>\n",
       "      <td>0</td>\n",
       "      <td>1168446</td>\n",
       "      <td>4</td>\n",
       "      <td>2020</td>\n",
       "    </tr>\n",
       "    <tr>\n",
       "      <td>1</td>\n",
       "      <td>663655</td>\n",
       "      <td>3</td>\n",
       "      <td>2020</td>\n",
       "    </tr>\n",
       "    <tr>\n",
       "      <td>2</td>\n",
       "      <td>74202</td>\n",
       "      <td>2</td>\n",
       "      <td>2020</td>\n",
       "    </tr>\n",
       "    <tr>\n",
       "      <td>3</td>\n",
       "      <td>78414</td>\n",
       "      <td>1</td>\n",
       "      <td>2020</td>\n",
       "    </tr>\n",
       "    <tr>\n",
       "      <td>4</td>\n",
       "      <td>113097</td>\n",
       "      <td>12</td>\n",
       "      <td>2019</td>\n",
       "    </tr>\n",
       "  </tbody>\n",
       "</table>\n",
       "</div>"
      ],
      "text/plain": [
       "   Initial Claims  Month  Year\n",
       "0         1168446      4  2020\n",
       "1          663655      3  2020\n",
       "2           74202      2  2020\n",
       "3           78414      1  2020\n",
       "4          113097     12  2019"
      ]
     },
     "execution_count": 22,
     "metadata": {},
     "output_type": "execute_result"
    }
   ],
   "source": [
    "df2.head()"
   ]
  },
  {
   "cell_type": "markdown",
   "metadata": {},
   "source": [
    "## Merging the Dataframes"
   ]
  },
  {
   "cell_type": "code",
   "execution_count": 23,
   "metadata": {},
   "outputs": [],
   "source": [
    "df3 = pd.merge(df1[df1['Area'] == 'New York State'],df2,on=['Year','Month'])   #Merge condition on year and month"
   ]
  },
  {
   "cell_type": "code",
   "execution_count": 24,
   "metadata": {},
   "outputs": [
    {
     "data": {
      "text/html": [
       "<div>\n",
       "<style scoped>\n",
       "    .dataframe tbody tr th:only-of-type {\n",
       "        vertical-align: middle;\n",
       "    }\n",
       "\n",
       "    .dataframe tbody tr th {\n",
       "        vertical-align: top;\n",
       "    }\n",
       "\n",
       "    .dataframe thead th {\n",
       "        text-align: right;\n",
       "    }\n",
       "</style>\n",
       "<table border=\"1\" class=\"dataframe\">\n",
       "  <thead>\n",
       "    <tr style=\"text-align: right;\">\n",
       "      <th></th>\n",
       "      <th>Area</th>\n",
       "      <th>Year</th>\n",
       "      <th>Month</th>\n",
       "      <th>Labor Force</th>\n",
       "      <th>Employed</th>\n",
       "      <th>Unemployed</th>\n",
       "      <th>Unemployment Rate</th>\n",
       "      <th>Initial Claims</th>\n",
       "    </tr>\n",
       "  </thead>\n",
       "  <tbody>\n",
       "    <tr>\n",
       "      <td>0</td>\n",
       "      <td>New York State</td>\n",
       "      <td>2020</td>\n",
       "      <td>3</td>\n",
       "      <td>9437900</td>\n",
       "      <td>9020100</td>\n",
       "      <td>417800</td>\n",
       "      <td>4.4</td>\n",
       "      <td>663655</td>\n",
       "    </tr>\n",
       "    <tr>\n",
       "      <td>1</td>\n",
       "      <td>New York State</td>\n",
       "      <td>2020</td>\n",
       "      <td>2</td>\n",
       "      <td>9566600</td>\n",
       "      <td>9190900</td>\n",
       "      <td>375700</td>\n",
       "      <td>3.9</td>\n",
       "      <td>74202</td>\n",
       "    </tr>\n",
       "    <tr>\n",
       "      <td>2</td>\n",
       "      <td>New York State</td>\n",
       "      <td>2020</td>\n",
       "      <td>1</td>\n",
       "      <td>9527700</td>\n",
       "      <td>9136600</td>\n",
       "      <td>391100</td>\n",
       "      <td>4.1</td>\n",
       "      <td>78414</td>\n",
       "    </tr>\n",
       "    <tr>\n",
       "      <td>3</td>\n",
       "      <td>New York State</td>\n",
       "      <td>2019</td>\n",
       "      <td>12</td>\n",
       "      <td>9468300</td>\n",
       "      <td>9116400</td>\n",
       "      <td>351900</td>\n",
       "      <td>3.7</td>\n",
       "      <td>113097</td>\n",
       "    </tr>\n",
       "    <tr>\n",
       "      <td>4</td>\n",
       "      <td>New York State</td>\n",
       "      <td>2019</td>\n",
       "      <td>11</td>\n",
       "      <td>9487200</td>\n",
       "      <td>9145900</td>\n",
       "      <td>341400</td>\n",
       "      <td>3.6</td>\n",
       "      <td>65150</td>\n",
       "    </tr>\n",
       "  </tbody>\n",
       "</table>\n",
       "</div>"
      ],
      "text/plain": [
       "             Area  Year  Month  Labor Force  Employed  Unemployed  \\\n",
       "0  New York State  2020      3      9437900   9020100      417800   \n",
       "1  New York State  2020      2      9566600   9190900      375700   \n",
       "2  New York State  2020      1      9527700   9136600      391100   \n",
       "3  New York State  2019     12      9468300   9116400      351900   \n",
       "4  New York State  2019     11      9487200   9145900      341400   \n",
       "\n",
       "   Unemployment Rate  Initial Claims  \n",
       "0                4.4          663655  \n",
       "1                3.9           74202  \n",
       "2                4.1           78414  \n",
       "3                3.7          113097  \n",
       "4                3.6           65150  "
      ]
     },
     "execution_count": 24,
     "metadata": {},
     "output_type": "execute_result"
    }
   ],
   "source": [
    "df3.head()"
   ]
  },
  {
   "cell_type": "code",
   "execution_count": 25,
   "metadata": {},
   "outputs": [
    {
     "data": {
      "text/html": [
       "<div>\n",
       "<style scoped>\n",
       "    .dataframe tbody tr th:only-of-type {\n",
       "        vertical-align: middle;\n",
       "    }\n",
       "\n",
       "    .dataframe tbody tr th {\n",
       "        vertical-align: top;\n",
       "    }\n",
       "\n",
       "    .dataframe thead th {\n",
       "        text-align: right;\n",
       "    }\n",
       "</style>\n",
       "<table border=\"1\" class=\"dataframe\">\n",
       "  <thead>\n",
       "    <tr style=\"text-align: right;\">\n",
       "      <th></th>\n",
       "      <th>Area</th>\n",
       "      <th>Year</th>\n",
       "      <th>Month</th>\n",
       "      <th>Labor Force</th>\n",
       "      <th>Employed</th>\n",
       "      <th>Unemployed</th>\n",
       "      <th>Unemployment Rate</th>\n",
       "      <th>Initial Claims</th>\n",
       "    </tr>\n",
       "  </thead>\n",
       "  <tbody>\n",
       "    <tr>\n",
       "      <td>526</td>\n",
       "      <td>New York State</td>\n",
       "      <td>1976</td>\n",
       "      <td>5</td>\n",
       "      <td>7561800</td>\n",
       "      <td>6884300</td>\n",
       "      <td>677500</td>\n",
       "      <td>9.0</td>\n",
       "      <td>140636</td>\n",
       "    </tr>\n",
       "    <tr>\n",
       "      <td>527</td>\n",
       "      <td>New York State</td>\n",
       "      <td>1976</td>\n",
       "      <td>4</td>\n",
       "      <td>7599200</td>\n",
       "      <td>6855400</td>\n",
       "      <td>743800</td>\n",
       "      <td>9.8</td>\n",
       "      <td>149279</td>\n",
       "    </tr>\n",
       "    <tr>\n",
       "      <td>528</td>\n",
       "      <td>New York State</td>\n",
       "      <td>1976</td>\n",
       "      <td>3</td>\n",
       "      <td>7622800</td>\n",
       "      <td>6819300</td>\n",
       "      <td>803500</td>\n",
       "      <td>10.5</td>\n",
       "      <td>162010</td>\n",
       "    </tr>\n",
       "    <tr>\n",
       "      <td>529</td>\n",
       "      <td>New York State</td>\n",
       "      <td>1976</td>\n",
       "      <td>2</td>\n",
       "      <td>7623500</td>\n",
       "      <td>6769500</td>\n",
       "      <td>854000</td>\n",
       "      <td>11.2</td>\n",
       "      <td>149482</td>\n",
       "    </tr>\n",
       "    <tr>\n",
       "      <td>530</td>\n",
       "      <td>New York State</td>\n",
       "      <td>1976</td>\n",
       "      <td>1</td>\n",
       "      <td>7634700</td>\n",
       "      <td>6780200</td>\n",
       "      <td>854400</td>\n",
       "      <td>11.2</td>\n",
       "      <td>186229</td>\n",
       "    </tr>\n",
       "  </tbody>\n",
       "</table>\n",
       "</div>"
      ],
      "text/plain": [
       "               Area  Year  Month  Labor Force  Employed  Unemployed  \\\n",
       "526  New York State  1976      5      7561800   6884300      677500   \n",
       "527  New York State  1976      4      7599200   6855400      743800   \n",
       "528  New York State  1976      3      7622800   6819300      803500   \n",
       "529  New York State  1976      2      7623500   6769500      854000   \n",
       "530  New York State  1976      1      7634700   6780200      854400   \n",
       "\n",
       "     Unemployment Rate  Initial Claims  \n",
       "526                9.0          140636  \n",
       "527                9.8          149279  \n",
       "528               10.5          162010  \n",
       "529               11.2          149482  \n",
       "530               11.2          186229  "
      ]
     },
     "execution_count": 25,
     "metadata": {},
     "output_type": "execute_result"
    }
   ],
   "source": [
    "df3.tail()"
   ]
  },
  {
   "cell_type": "code",
   "execution_count": 26,
   "metadata": {},
   "outputs": [
    {
     "data": {
      "text/plain": [
       "Index(['Area', 'Year', 'Month', 'Labor Force', 'Employed', 'Unemployed',\n",
       "       'Unemployment Rate', 'Initial Claims'],\n",
       "      dtype='object')"
      ]
     },
     "execution_count": 26,
     "metadata": {},
     "output_type": "execute_result"
    }
   ],
   "source": [
    "df3.columns"
   ]
  },
  {
   "cell_type": "code",
   "execution_count": 27,
   "metadata": {},
   "outputs": [
    {
     "data": {
      "text/html": [
       "<div>\n",
       "<style scoped>\n",
       "    .dataframe tbody tr th:only-of-type {\n",
       "        vertical-align: middle;\n",
       "    }\n",
       "\n",
       "    .dataframe tbody tr th {\n",
       "        vertical-align: top;\n",
       "    }\n",
       "\n",
       "    .dataframe thead th {\n",
       "        text-align: right;\n",
       "    }\n",
       "</style>\n",
       "<table border=\"1\" class=\"dataframe\">\n",
       "  <thead>\n",
       "    <tr style=\"text-align: right;\">\n",
       "      <th></th>\n",
       "      <th>Year</th>\n",
       "      <th>Month</th>\n",
       "      <th>Labor Force</th>\n",
       "      <th>Employed</th>\n",
       "      <th>Unemployed</th>\n",
       "      <th>Unemployment Rate</th>\n",
       "      <th>Initial Claims</th>\n",
       "    </tr>\n",
       "  </thead>\n",
       "  <tbody>\n",
       "    <tr>\n",
       "      <td>count</td>\n",
       "      <td>531.000000</td>\n",
       "      <td>531.000000</td>\n",
       "      <td>5.310000e+02</td>\n",
       "      <td>5.310000e+02</td>\n",
       "      <td>531.000000</td>\n",
       "      <td>531.000000</td>\n",
       "      <td>531.000000</td>\n",
       "    </tr>\n",
       "    <tr>\n",
       "      <td>mean</td>\n",
       "      <td>1997.627119</td>\n",
       "      <td>6.474576</td>\n",
       "      <td>8.907897e+06</td>\n",
       "      <td>8.337864e+06</td>\n",
       "      <td>570033.333333</td>\n",
       "      <td>6.452542</td>\n",
       "      <td>103670.751412</td>\n",
       "    </tr>\n",
       "    <tr>\n",
       "      <td>std</td>\n",
       "      <td>12.786355</td>\n",
       "      <td>3.462578</td>\n",
       "      <td>6.283571e+05</td>\n",
       "      <td>6.627724e+05</td>\n",
       "      <td>134601.969483</td>\n",
       "      <td>1.658633</td>\n",
       "      <td>39008.942485</td>\n",
       "    </tr>\n",
       "    <tr>\n",
       "      <td>min</td>\n",
       "      <td>1976.000000</td>\n",
       "      <td>1.000000</td>\n",
       "      <td>7.561800e+06</td>\n",
       "      <td>6.769500e+06</td>\n",
       "      <td>306200.000000</td>\n",
       "      <td>3.600000</td>\n",
       "      <td>49263.000000</td>\n",
       "    </tr>\n",
       "    <tr>\n",
       "      <td>25%</td>\n",
       "      <td>1987.000000</td>\n",
       "      <td>3.000000</td>\n",
       "      <td>8.430600e+06</td>\n",
       "      <td>7.939250e+06</td>\n",
       "      <td>463900.000000</td>\n",
       "      <td>5.000000</td>\n",
       "      <td>80394.500000</td>\n",
       "    </tr>\n",
       "    <tr>\n",
       "      <td>50%</td>\n",
       "      <td>1998.000000</td>\n",
       "      <td>6.000000</td>\n",
       "      <td>9.038800e+06</td>\n",
       "      <td>8.534500e+06</td>\n",
       "      <td>555700.000000</td>\n",
       "      <td>6.300000</td>\n",
       "      <td>95505.000000</td>\n",
       "    </tr>\n",
       "    <tr>\n",
       "      <td>75%</td>\n",
       "      <td>2009.000000</td>\n",
       "      <td>9.000000</td>\n",
       "      <td>9.506950e+06</td>\n",
       "      <td>8.899900e+06</td>\n",
       "      <td>655800.000000</td>\n",
       "      <td>7.700000</td>\n",
       "      <td>122065.500000</td>\n",
       "    </tr>\n",
       "    <tr>\n",
       "      <td>max</td>\n",
       "      <td>2020.000000</td>\n",
       "      <td>12.000000</td>\n",
       "      <td>9.824400e+06</td>\n",
       "      <td>9.279100e+06</td>\n",
       "      <td>913400.000000</td>\n",
       "      <td>11.200000</td>\n",
       "      <td>663655.000000</td>\n",
       "    </tr>\n",
       "  </tbody>\n",
       "</table>\n",
       "</div>"
      ],
      "text/plain": [
       "              Year       Month   Labor Force      Employed     Unemployed  \\\n",
       "count   531.000000  531.000000  5.310000e+02  5.310000e+02     531.000000   \n",
       "mean   1997.627119    6.474576  8.907897e+06  8.337864e+06  570033.333333   \n",
       "std      12.786355    3.462578  6.283571e+05  6.627724e+05  134601.969483   \n",
       "min    1976.000000    1.000000  7.561800e+06  6.769500e+06  306200.000000   \n",
       "25%    1987.000000    3.000000  8.430600e+06  7.939250e+06  463900.000000   \n",
       "50%    1998.000000    6.000000  9.038800e+06  8.534500e+06  555700.000000   \n",
       "75%    2009.000000    9.000000  9.506950e+06  8.899900e+06  655800.000000   \n",
       "max    2020.000000   12.000000  9.824400e+06  9.279100e+06  913400.000000   \n",
       "\n",
       "       Unemployment Rate  Initial Claims  \n",
       "count         531.000000      531.000000  \n",
       "mean            6.452542   103670.751412  \n",
       "std             1.658633    39008.942485  \n",
       "min             3.600000    49263.000000  \n",
       "25%             5.000000    80394.500000  \n",
       "50%             6.300000    95505.000000  \n",
       "75%             7.700000   122065.500000  \n",
       "max            11.200000   663655.000000  "
      ]
     },
     "execution_count": 27,
     "metadata": {},
     "output_type": "execute_result"
    }
   ],
   "source": [
    "df3.describe()"
   ]
  },
  {
   "cell_type": "code",
   "execution_count": 28,
   "metadata": {},
   "outputs": [
    {
     "data": {
      "text/plain": [
       "Area                 0\n",
       "Year                 0\n",
       "Month                0\n",
       "Labor Force          0\n",
       "Employed             0\n",
       "Unemployed           0\n",
       "Unemployment Rate    0\n",
       "Initial Claims       0\n",
       "dtype: int64"
      ]
     },
     "execution_count": 28,
     "metadata": {},
     "output_type": "execute_result"
    }
   ],
   "source": [
    "df3.isna().sum()   "
   ]
  },
  {
   "cell_type": "code",
   "execution_count": 29,
   "metadata": {},
   "outputs": [],
   "source": [
    "df3=df3[df3['Year'] != 2020]   # Removing the year 2020 as only 3 months are recorded and I am analysing data anually."
   ]
  },
  {
   "cell_type": "code",
   "execution_count": 30,
   "metadata": {},
   "outputs": [],
   "source": [
    "# Years and months to list\n",
    "year = df3.Year.unique().tolist()    \n",
    "month = df3.Month.unique().tolist()"
   ]
  },
  {
   "cell_type": "markdown",
   "metadata": {},
   "source": [
    "## Hypothesis 1: More Unemployment leads to more unemployment insurance claims(Directly related)."
   ]
  },
  {
   "cell_type": "code",
   "execution_count": 31,
   "metadata": {},
   "outputs": [],
   "source": [
    "#Calculating Means for each year\n",
    "unemployed=[]\n",
    "claims = []\n",
    "unemp_rate=[]\n",
    "unemps = []\n",
    "claim = []\n",
    "\n",
    "for y in year:\n",
    "    tdf = df3[df3['Year'] == y]\n",
    "    claim.append(mean(tdf['Initial Claims']))       \n",
    "    unemployed.append(mean(tdf.Unemployed))\n",
    "    unemp_rate.append(mean(tdf['Unemployment Rate']))\n",
    "    claims.append(tdf['Initial Claims'].sum())\n",
    "    unemps.append(tdf.Unemployed.sum())"
   ]
  },
  {
   "cell_type": "code",
   "execution_count": 32,
   "metadata": {},
   "outputs": [
    {
     "data": {
      "image/png": "[encoded data removed]",
      "text/plain": [
       "<Figure size 2160x720 with 1 Axes>"
      ]
     },
     "metadata": {
      "needs_background": "light"
     },
     "output_type": "display_data"
    }
   ],
   "source": [
    "plt.figure(  figsize = (30,10) )\n",
    "plt.bar(year,claims)\n",
    "plt.bar(year,unemployed)\n",
    "plt.xticks(year)\n",
    "plt.xlabel('Year')\n",
    "plt.ylabel('Population')\n",
    "plt.legend(['Unemployed','Claims'])\n",
    "plt.title('Fig 1 : Unemployed vs Unemployment Claims')\n",
    "plt.show() "
   ]
  },
  {
   "cell_type": "code",
   "execution_count": 33,
   "metadata": {},
   "outputs": [
    {
     "name": "stdout",
     "output_type": "stream",
     "text": [
      "Requirement already up-to-date: pingouin in c:\\programdata\\anaconda3\\lib\\site-packages (0.3.4)\n",
      "Requirement already satisfied, skipping upgrade: seaborn>=0.9.0 in c:\\programdata\\anaconda3\\lib\\site-packages (from pingouin) (0.9.0)\n",
      "Requirement already satisfied, skipping upgrade: pandas>=0.24 in c:\\programdata\\anaconda3\\lib\\site-packages (from pingouin) (0.25.1)\n",
      "Requirement already satisfied, skipping upgrade: matplotlib>=3.0.2 in c:\\programdata\\anaconda3\\lib\\site-packages (from pingouin) (3.1.1)\n",
      "Requirement already satisfied, skipping upgrade: numpy>=1.15 in c:\\programdata\\anaconda3\\lib\\site-packages (from pingouin) (1.16.5)\n",
      "Requirement already satisfied, skipping upgrade: statsmodels>=0.10.0 in c:\\programdata\\anaconda3\\lib\\site-packages (from pingouin) (0.10.1)\n",
      "Requirement already satisfied, skipping upgrade: outdated in c:\\programdata\\anaconda3\\lib\\site-packages (from pingouin) (0.2.0)\n",
      "Requirement already satisfied, skipping upgrade: pandas-flavor>=0.1.2 in c:\\programdata\\anaconda3\\lib\\site-packages (from pingouin) (0.2.0)\n",
      "Requirement already satisfied, skipping upgrade: scipy>=1.3 in c:\\programdata\\anaconda3\\lib\\site-packages (from pingouin) (1.3.1)\n",
      "Requirement already satisfied, skipping upgrade: tabulate in c:\\programdata\\anaconda3\\lib\\site-packages (from pingouin) (0.8.7)\n",
      "Requirement already satisfied, skipping upgrade: pytz>=2017.2 in c:\\programdata\\anaconda3\\lib\\site-packages (from pandas>=0.24->pingouin) (2019.3)\n",
      "Requirement already satisfied, skipping upgrade: python-dateutil>=2.6.1 in c:\\programdata\\anaconda3\\lib\\site-packages (from pandas>=0.24->pingouin) (2.8.0)\n",
      "Requirement already satisfied, skipping upgrade: cycler>=0.10 in c:\\programdata\\anaconda3\\lib\\site-packages (from matplotlib>=3.0.2->pingouin) (0.10.0)\n",
      "Requirement already satisfied, skipping upgrade: kiwisolver>=1.0.1 in c:\\programdata\\anaconda3\\lib\\site-packages (from matplotlib>=3.0.2->pingouin) (1.1.0)\n",
      "Requirement already satisfied, skipping upgrade: pyparsing!=2.0.4,!=2.1.2,!=2.1.6,>=2.0.1 in c:\\programdata\\anaconda3\\lib\\site-packages (from matplotlib>=3.0.2->pingouin) (2.4.2)\n",
      "Requirement already satisfied, skipping upgrade: patsy>=0.4.0 in c:\\programdata\\anaconda3\\lib\\site-packages (from statsmodels>=0.10.0->pingouin) (0.5.1)\n",
      "Requirement already satisfied, skipping upgrade: requests in c:\\programdata\\anaconda3\\lib\\site-packages (from outdated->pingouin) (2.22.0)\n",
      "Requirement already satisfied, skipping upgrade: littleutils in c:\\programdata\\anaconda3\\lib\\site-packages (from outdated->pingouin) (0.2.2)\n",
      "Requirement already satisfied, skipping upgrade: xarray in c:\\programdata\\anaconda3\\lib\\site-packages (from pandas-flavor>=0.1.2->pingouin) (0.15.1)\n",
      "Requirement already satisfied, skipping upgrade: six>=1.5 in c:\\programdata\\anaconda3\\lib\\site-packages (from python-dateutil>=2.6.1->pandas>=0.24->pingouin) (1.12.0)\n",
      "Requirement already satisfied, skipping upgrade: setuptools in c:\\programdata\\anaconda3\\lib\\site-packages (from kiwisolver>=1.0.1->matplotlib>=3.0.2->pingouin) (41.4.0)\n",
      "Requirement already satisfied, skipping upgrade: certifi>=2017.4.17 in c:\\programdata\\anaconda3\\lib\\site-packages (from requests->outdated->pingouin) (2019.9.11)\n",
      "Requirement already satisfied, skipping upgrade: urllib3!=1.25.0,!=1.25.1,<1.26,>=1.21.1 in c:\\programdata\\anaconda3\\lib\\site-packages (from requests->outdated->pingouin) (1.24.2)\n",
      "Requirement already satisfied, skipping upgrade: chardet<3.1.0,>=3.0.2 in c:\\programdata\\anaconda3\\lib\\site-packages (from requests->outdated->pingouin) (3.0.4)\n",
      "Requirement already satisfied, skipping upgrade: idna<2.9,>=2.5 in c:\\programdata\\anaconda3\\lib\\site-packages (from requests->outdated->pingouin) (2.8)\n",
      "Note: you may need to restart the kernel to use updated packages.\n"
     ]
    },
    {
     "name": "stderr",
     "output_type": "stream",
     "text": [
      "WARNING: Retrying (Retry(total=4, connect=None, read=None, redirect=None, status=None)) after connection broken by 'ProtocolError('Connection aborted.', ConnectionResetError(10054, 'An existing connection was forcibly closed by the remote host', None, 10054, None))': /simple/pingouin/\n",
      "WARNING: Retrying (Retry(total=3, connect=None, read=None, redirect=None, status=None)) after connection broken by 'ProtocolError('Connection aborted.', ConnectionResetError(10054, 'An existing connection was forcibly closed by the remote host', None, 10054, None))': /simple/pingouin/\n",
      "WARNING: Retrying (Retry(total=2, connect=None, read=None, redirect=None, status=None)) after connection broken by 'ProtocolError('Connection aborted.', ConnectionResetError(10054, 'An existing connection was forcibly closed by the remote host', None, 10054, None))': /simple/pingouin/\n"
     ]
    }
   ],
   "source": [
    "pip install --upgrade pingouin"
   ]
  },
  {
   "cell_type": "code",
   "execution_count": 34,
   "metadata": {},
   "outputs": [
    {
     "data": {
      "text/html": [
       "<div>\n",
       "<style scoped>\n",
       "    .dataframe tbody tr th:only-of-type {\n",
       "        vertical-align: middle;\n",
       "    }\n",
       "\n",
       "    .dataframe tbody tr th {\n",
       "        vertical-align: top;\n",
       "    }\n",
       "\n",
       "    .dataframe thead th {\n",
       "        text-align: right;\n",
       "    }\n",
       "</style>\n",
       "<table border=\"1\" class=\"dataframe\">\n",
       "  <thead>\n",
       "    <tr style=\"text-align: right;\">\n",
       "      <th></th>\n",
       "      <th>n</th>\n",
       "      <th>r</th>\n",
       "      <th>CI95%</th>\n",
       "      <th>r2</th>\n",
       "      <th>adj_r2</th>\n",
       "      <th>p-val</th>\n",
       "      <th>BF10</th>\n",
       "      <th>power</th>\n",
       "    </tr>\n",
       "  </thead>\n",
       "  <tbody>\n",
       "    <tr>\n",
       "      <td>pearson</td>\n",
       "      <td>44</td>\n",
       "      <td>0.687438</td>\n",
       "      <td>[0.49, 0.82]</td>\n",
       "      <td>0.472571</td>\n",
       "      <td>0.446843</td>\n",
       "      <td>2.543980e-07</td>\n",
       "      <td>7.104e+04</td>\n",
       "      <td>0.999755</td>\n",
       "    </tr>\n",
       "  </tbody>\n",
       "</table>\n",
       "</div>"
      ],
      "text/plain": [
       "          n         r         CI95%        r2    adj_r2         p-val  \\\n",
       "pearson  44  0.687438  [0.49, 0.82]  0.472571  0.446843  2.543980e-07   \n",
       "\n",
       "              BF10     power  \n",
       "pearson  7.104e+04  0.999755  "
      ]
     },
     "execution_count": 34,
     "metadata": {},
     "output_type": "execute_result"
    }
   ],
   "source": [
    "import pingouin as pg               #REF : https://raphaelvallat.com/correlation.html\n",
    "pg.corr(x=claims, y=unemployed)  # the strength of the linear relationship between two variables"
   ]
  },
  {
   "cell_type": "raw",
   "metadata": {},
   "source": [
    "n is the sample size, i.e. how many observations were included in the calculation of the correlation coefficient\n",
    "r is the correlation coefficient, 0.69 in that case, which is quite high.\n",
    "CI95% are the 95% confidence intervals around the correlation coefficient\n",
    "r2 and adj_r2 are the r-squared and ajusted r-squared respectively. As its name implies, it is simply the squared r, which is a measure of the proportion of the variance in the first variable that is predictable from the second variable.\n",
    "p-val is the p-value of the test. The general rule is that you can reject the hypothesis that the two variables are not correlated if the p-value is below 0.05, which is the case. We can therefore say that there is a significant correlation between the two variables.\n",
    "BF10 is the Bayes Factor of the test, which also measure the statistical significance of the test. It directly measures the strength of evidence in favor of our initial hypothesis that weight and height are correlated. Since this value is very large, it indicates that there is very strong evidence that the two variables are indeed correlated. While they are conceptually different, the Bayes Factor and p-values will in practice often reach the same conclusion.\n",
    "power is the achieved power of the test, which is the likelihood that we will detect an effect when there is indeed an effect there to be detected. The higher this value is, the more robust our test is. In that case, a value of 1 means that we can be greatly confident in our ability to detect the significant effect."
   ]
  },
  {
   "cell_type": "code",
   "execution_count": 35,
   "metadata": {},
   "outputs": [
    {
     "data": {
      "image/png": "[encoded data removed]",
      "text/plain": [
       "<Figure size 1944x792 with 1 Axes>"
      ]
     },
     "metadata": {
      "needs_background": "light"
     },
     "output_type": "display_data"
    }
   ],
   "source": [
    "plt.figure(  figsize = (27,11) )\n",
    "plt.bar(year,unemployed)\n",
    "plt.xticks(year)\n",
    "plt.xlabel('Year')\n",
    "plt.ylabel('Population')\n",
    "plt.title('Fig 2: Unemployed vs Year')\n",
    "plt.show() "
   ]
  },
  {
   "cell_type": "code",
   "execution_count": 36,
   "metadata": {},
   "outputs": [
    {
     "data": {
      "image/png": "[encoded data removed]",
      "text/plain": [
       "<Figure size 1944x792 with 1 Axes>"
      ]
     },
     "metadata": {
      "needs_background": "light"
     },
     "output_type": "display_data"
    }
   ],
   "source": [
    "plt.figure(  figsize = (27,11) )\n",
    "plt.bar(year,claim)\n",
    "plt.xticks(year)\n",
    "plt.xlabel('Year')\n",
    "plt.ylabel('Claims')\n",
    "plt.title('Fig 3 :  Unemployment Claims vs Year')\n",
    "plt.show() "
   ]
  },
  {
   "cell_type": "markdown",
   "metadata": {},
   "source": [
    "As we can see from the graph and the correlation coefficient of 0.69, the unemployment claims are proportionally related to unemployed people."
   ]
  },
  {
   "cell_type": "markdown",
   "metadata": {},
   "source": [
    "## Hypothesis 2: The Year having maximum/minimum Unemployment rate will have maximum/minimum unemployment insurance claims."
   ]
  },
  {
   "cell_type": "code",
   "execution_count": 37,
   "metadata": {},
   "outputs": [
    {
     "data": {
      "image/png": "[encoded data removed]",
      "text/plain": [
       "<Figure size 1944x792 with 1 Axes>"
      ]
     },
     "metadata": {
      "needs_background": "light"
     },
     "output_type": "display_data"
    }
   ],
   "source": [
    "plt.figure(  figsize = (27,11) )\n",
    "plt.bar(year,unemp_rate)\n",
    "plt.xticks(year)\n",
    "plt.xlabel('Year')\n",
    "plt.ylabel('Unemployment Rate (%)')\n",
    "plt.title('Fig 4 :  Unemployment Rate  vs Year')\n",
    "plt.show() "
   ]
  },
  {
   "cell_type": "code",
   "execution_count": 38,
   "metadata": {},
   "outputs": [
    {
     "name": "stdout",
     "output_type": "stream",
     "text": [
      "Highest Unemployment Rate , Unemployment claims in Year 1976 10.233333333333333 162390.5\n"
     ]
    }
   ],
   "source": [
    "print('Highest Unemployment Rate , Unemployment claims in Year 1976',mean(df3[df3['Year']== 1976]['Unemployment Rate']),mean(df3[df3['Year']== 1976]['Initial Claims']))"
   ]
  },
  {
   "cell_type": "code",
   "execution_count": 39,
   "metadata": {},
   "outputs": [
    {
     "data": {
      "text/html": [
       "<div>\n",
       "<style scoped>\n",
       "    .dataframe tbody tr th:only-of-type {\n",
       "        vertical-align: middle;\n",
       "    }\n",
       "\n",
       "    .dataframe tbody tr th {\n",
       "        vertical-align: top;\n",
       "    }\n",
       "\n",
       "    .dataframe thead th {\n",
       "        text-align: right;\n",
       "    }\n",
       "</style>\n",
       "<table border=\"1\" class=\"dataframe\">\n",
       "  <thead>\n",
       "    <tr style=\"text-align: right;\">\n",
       "      <th></th>\n",
       "      <th>Area</th>\n",
       "      <th>Year</th>\n",
       "      <th>Month</th>\n",
       "      <th>Labor Force</th>\n",
       "      <th>Employed</th>\n",
       "      <th>Unemployed</th>\n",
       "      <th>Unemployment Rate</th>\n",
       "      <th>Initial Claims</th>\n",
       "    </tr>\n",
       "  </thead>\n",
       "  <tbody>\n",
       "    <tr>\n",
       "      <td>519</td>\n",
       "      <td>New York State</td>\n",
       "      <td>1976</td>\n",
       "      <td>12</td>\n",
       "      <td>7650700</td>\n",
       "      <td>6888900</td>\n",
       "      <td>761700</td>\n",
       "      <td>10.0</td>\n",
       "      <td>203876</td>\n",
       "    </tr>\n",
       "    <tr>\n",
       "      <td>520</td>\n",
       "      <td>New York State</td>\n",
       "      <td>1976</td>\n",
       "      <td>11</td>\n",
       "      <td>7667000</td>\n",
       "      <td>6884700</td>\n",
       "      <td>782300</td>\n",
       "      <td>10.2</td>\n",
       "      <td>170488</td>\n",
       "    </tr>\n",
       "    <tr>\n",
       "      <td>521</td>\n",
       "      <td>New York State</td>\n",
       "      <td>1976</td>\n",
       "      <td>10</td>\n",
       "      <td>7664400</td>\n",
       "      <td>6908400</td>\n",
       "      <td>756000</td>\n",
       "      <td>9.9</td>\n",
       "      <td>149468</td>\n",
       "    </tr>\n",
       "    <tr>\n",
       "      <td>522</td>\n",
       "      <td>New York State</td>\n",
       "      <td>1976</td>\n",
       "      <td>9</td>\n",
       "      <td>7619200</td>\n",
       "      <td>6846800</td>\n",
       "      <td>772400</td>\n",
       "      <td>10.1</td>\n",
       "      <td>145872</td>\n",
       "    </tr>\n",
       "    <tr>\n",
       "      <td>523</td>\n",
       "      <td>New York State</td>\n",
       "      <td>1976</td>\n",
       "      <td>8</td>\n",
       "      <td>7895600</td>\n",
       "      <td>7089100</td>\n",
       "      <td>806600</td>\n",
       "      <td>10.2</td>\n",
       "      <td>144529</td>\n",
       "    </tr>\n",
       "    <tr>\n",
       "      <td>524</td>\n",
       "      <td>New York State</td>\n",
       "      <td>1976</td>\n",
       "      <td>7</td>\n",
       "      <td>7970700</td>\n",
       "      <td>7131300</td>\n",
       "      <td>839400</td>\n",
       "      <td>10.5</td>\n",
       "      <td>180539</td>\n",
       "    </tr>\n",
       "    <tr>\n",
       "      <td>525</td>\n",
       "      <td>New York State</td>\n",
       "      <td>1976</td>\n",
       "      <td>6</td>\n",
       "      <td>7801000</td>\n",
       "      <td>7006500</td>\n",
       "      <td>794500</td>\n",
       "      <td>10.2</td>\n",
       "      <td>166278</td>\n",
       "    </tr>\n",
       "    <tr>\n",
       "      <td>526</td>\n",
       "      <td>New York State</td>\n",
       "      <td>1976</td>\n",
       "      <td>5</td>\n",
       "      <td>7561800</td>\n",
       "      <td>6884300</td>\n",
       "      <td>677500</td>\n",
       "      <td>9.0</td>\n",
       "      <td>140636</td>\n",
       "    </tr>\n",
       "    <tr>\n",
       "      <td>527</td>\n",
       "      <td>New York State</td>\n",
       "      <td>1976</td>\n",
       "      <td>4</td>\n",
       "      <td>7599200</td>\n",
       "      <td>6855400</td>\n",
       "      <td>743800</td>\n",
       "      <td>9.8</td>\n",
       "      <td>149279</td>\n",
       "    </tr>\n",
       "    <tr>\n",
       "      <td>528</td>\n",
       "      <td>New York State</td>\n",
       "      <td>1976</td>\n",
       "      <td>3</td>\n",
       "      <td>7622800</td>\n",
       "      <td>6819300</td>\n",
       "      <td>803500</td>\n",
       "      <td>10.5</td>\n",
       "      <td>162010</td>\n",
       "    </tr>\n",
       "    <tr>\n",
       "      <td>529</td>\n",
       "      <td>New York State</td>\n",
       "      <td>1976</td>\n",
       "      <td>2</td>\n",
       "      <td>7623500</td>\n",
       "      <td>6769500</td>\n",
       "      <td>854000</td>\n",
       "      <td>11.2</td>\n",
       "      <td>149482</td>\n",
       "    </tr>\n",
       "    <tr>\n",
       "      <td>530</td>\n",
       "      <td>New York State</td>\n",
       "      <td>1976</td>\n",
       "      <td>1</td>\n",
       "      <td>7634700</td>\n",
       "      <td>6780200</td>\n",
       "      <td>854400</td>\n",
       "      <td>11.2</td>\n",
       "      <td>186229</td>\n",
       "    </tr>\n",
       "  </tbody>\n",
       "</table>\n",
       "</div>"
      ],
      "text/plain": [
       "               Area  Year  Month  Labor Force  Employed  Unemployed  \\\n",
       "519  New York State  1976     12      7650700   6888900      761700   \n",
       "520  New York State  1976     11      7667000   6884700      782300   \n",
       "521  New York State  1976     10      7664400   6908400      756000   \n",
       "522  New York State  1976      9      7619200   6846800      772400   \n",
       "523  New York State  1976      8      7895600   7089100      806600   \n",
       "524  New York State  1976      7      7970700   7131300      839400   \n",
       "525  New York State  1976      6      7801000   7006500      794500   \n",
       "526  New York State  1976      5      7561800   6884300      677500   \n",
       "527  New York State  1976      4      7599200   6855400      743800   \n",
       "528  New York State  1976      3      7622800   6819300      803500   \n",
       "529  New York State  1976      2      7623500   6769500      854000   \n",
       "530  New York State  1976      1      7634700   6780200      854400   \n",
       "\n",
       "     Unemployment Rate  Initial Claims  \n",
       "519               10.0          203876  \n",
       "520               10.2          170488  \n",
       "521                9.9          149468  \n",
       "522               10.1          145872  \n",
       "523               10.2          144529  \n",
       "524               10.5          180539  \n",
       "525               10.2          166278  \n",
       "526                9.0          140636  \n",
       "527                9.8          149279  \n",
       "528               10.5          162010  \n",
       "529               11.2          149482  \n",
       "530               11.2          186229  "
      ]
     },
     "execution_count": 39,
     "metadata": {},
     "output_type": "execute_result"
    }
   ],
   "source": [
    "df3[df3['Year'] == 1976]"
   ]
  },
  {
   "cell_type": "code",
   "execution_count": 40,
   "metadata": {},
   "outputs": [
    {
     "name": "stdout",
     "output_type": "stream",
     "text": [
      "Lowest Unemployment Rate , Unemployment claims in Year 1976 4.275 79953.33333333333\n"
     ]
    }
   ],
   "source": [
    "print('Lowest Unemployment Rate , Unemployment claims in Year 1976',mean(df3[df3['Year']== 1988]['Unemployment Rate']),mean(df3[df3['Year']== 1988]['Initial Claims']))"
   ]
  },
  {
   "cell_type": "code",
   "execution_count": 41,
   "metadata": {},
   "outputs": [
    {
     "data": {
      "text/html": [
       "<div>\n",
       "<style scoped>\n",
       "    .dataframe tbody tr th:only-of-type {\n",
       "        vertical-align: middle;\n",
       "    }\n",
       "\n",
       "    .dataframe tbody tr th {\n",
       "        vertical-align: top;\n",
       "    }\n",
       "\n",
       "    .dataframe thead th {\n",
       "        text-align: right;\n",
       "    }\n",
       "</style>\n",
       "<table border=\"1\" class=\"dataframe\">\n",
       "  <thead>\n",
       "    <tr style=\"text-align: right;\">\n",
       "      <th></th>\n",
       "      <th>Area</th>\n",
       "      <th>Year</th>\n",
       "      <th>Month</th>\n",
       "      <th>Labor Force</th>\n",
       "      <th>Employed</th>\n",
       "      <th>Unemployed</th>\n",
       "      <th>Unemployment Rate</th>\n",
       "      <th>Initial Claims</th>\n",
       "    </tr>\n",
       "  </thead>\n",
       "  <tbody>\n",
       "    <tr>\n",
       "      <td>375</td>\n",
       "      <td>New York State</td>\n",
       "      <td>1988</td>\n",
       "      <td>12</td>\n",
       "      <td>8581900</td>\n",
       "      <td>8195600</td>\n",
       "      <td>386300</td>\n",
       "      <td>4.5</td>\n",
       "      <td>112905</td>\n",
       "    </tr>\n",
       "    <tr>\n",
       "      <td>376</td>\n",
       "      <td>New York State</td>\n",
       "      <td>1988</td>\n",
       "      <td>11</td>\n",
       "      <td>8599700</td>\n",
       "      <td>8222500</td>\n",
       "      <td>377300</td>\n",
       "      <td>4.4</td>\n",
       "      <td>87143</td>\n",
       "    </tr>\n",
       "    <tr>\n",
       "      <td>377</td>\n",
       "      <td>New York State</td>\n",
       "      <td>1988</td>\n",
       "      <td>10</td>\n",
       "      <td>8587300</td>\n",
       "      <td>8221000</td>\n",
       "      <td>366300</td>\n",
       "      <td>4.3</td>\n",
       "      <td>65816</td>\n",
       "    </tr>\n",
       "    <tr>\n",
       "      <td>378</td>\n",
       "      <td>New York State</td>\n",
       "      <td>1988</td>\n",
       "      <td>9</td>\n",
       "      <td>8526500</td>\n",
       "      <td>8162700</td>\n",
       "      <td>363800</td>\n",
       "      <td>4.3</td>\n",
       "      <td>61523</td>\n",
       "    </tr>\n",
       "    <tr>\n",
       "      <td>379</td>\n",
       "      <td>New York State</td>\n",
       "      <td>1988</td>\n",
       "      <td>8</td>\n",
       "      <td>8713200</td>\n",
       "      <td>8344400</td>\n",
       "      <td>368800</td>\n",
       "      <td>4.2</td>\n",
       "      <td>67451</td>\n",
       "    </tr>\n",
       "    <tr>\n",
       "      <td>380</td>\n",
       "      <td>New York State</td>\n",
       "      <td>1988</td>\n",
       "      <td>7</td>\n",
       "      <td>8743600</td>\n",
       "      <td>8372000</td>\n",
       "      <td>371600</td>\n",
       "      <td>4.2</td>\n",
       "      <td>83948</td>\n",
       "    </tr>\n",
       "    <tr>\n",
       "      <td>381</td>\n",
       "      <td>New York State</td>\n",
       "      <td>1988</td>\n",
       "      <td>6</td>\n",
       "      <td>8621000</td>\n",
       "      <td>8291500</td>\n",
       "      <td>329400</td>\n",
       "      <td>3.8</td>\n",
       "      <td>79686</td>\n",
       "    </tr>\n",
       "    <tr>\n",
       "      <td>382</td>\n",
       "      <td>New York State</td>\n",
       "      <td>1988</td>\n",
       "      <td>5</td>\n",
       "      <td>8435000</td>\n",
       "      <td>8101000</td>\n",
       "      <td>333900</td>\n",
       "      <td>4.0</td>\n",
       "      <td>65994</td>\n",
       "    </tr>\n",
       "    <tr>\n",
       "      <td>383</td>\n",
       "      <td>New York State</td>\n",
       "      <td>1988</td>\n",
       "      <td>4</td>\n",
       "      <td>8409500</td>\n",
       "      <td>8103300</td>\n",
       "      <td>306200</td>\n",
       "      <td>3.6</td>\n",
       "      <td>75905</td>\n",
       "    </tr>\n",
       "    <tr>\n",
       "      <td>384</td>\n",
       "      <td>New York State</td>\n",
       "      <td>1988</td>\n",
       "      <td>3</td>\n",
       "      <td>8421700</td>\n",
       "      <td>8057500</td>\n",
       "      <td>364200</td>\n",
       "      <td>4.3</td>\n",
       "      <td>78842</td>\n",
       "    </tr>\n",
       "    <tr>\n",
       "      <td>385</td>\n",
       "      <td>New York State</td>\n",
       "      <td>1988</td>\n",
       "      <td>2</td>\n",
       "      <td>8447700</td>\n",
       "      <td>8050800</td>\n",
       "      <td>396900</td>\n",
       "      <td>4.7</td>\n",
       "      <td>80357</td>\n",
       "    </tr>\n",
       "    <tr>\n",
       "      <td>386</td>\n",
       "      <td>New York State</td>\n",
       "      <td>1988</td>\n",
       "      <td>1</td>\n",
       "      <td>8470700</td>\n",
       "      <td>8051100</td>\n",
       "      <td>419600</td>\n",
       "      <td>5.0</td>\n",
       "      <td>99870</td>\n",
       "    </tr>\n",
       "  </tbody>\n",
       "</table>\n",
       "</div>"
      ],
      "text/plain": [
       "               Area  Year  Month  Labor Force  Employed  Unemployed  \\\n",
       "375  New York State  1988     12      8581900   8195600      386300   \n",
       "376  New York State  1988     11      8599700   8222500      377300   \n",
       "377  New York State  1988     10      8587300   8221000      366300   \n",
       "378  New York State  1988      9      8526500   8162700      363800   \n",
       "379  New York State  1988      8      8713200   8344400      368800   \n",
       "380  New York State  1988      7      8743600   8372000      371600   \n",
       "381  New York State  1988      6      8621000   8291500      329400   \n",
       "382  New York State  1988      5      8435000   8101000      333900   \n",
       "383  New York State  1988      4      8409500   8103300      306200   \n",
       "384  New York State  1988      3      8421700   8057500      364200   \n",
       "385  New York State  1988      2      8447700   8050800      396900   \n",
       "386  New York State  1988      1      8470700   8051100      419600   \n",
       "\n",
       "     Unemployment Rate  Initial Claims  \n",
       "375                4.5          112905  \n",
       "376                4.4           87143  \n",
       "377                4.3           65816  \n",
       "378                4.3           61523  \n",
       "379                4.2           67451  \n",
       "380                4.2           83948  \n",
       "381                3.8           79686  \n",
       "382                4.0           65994  \n",
       "383                3.6           75905  \n",
       "384                4.3           78842  \n",
       "385                4.7           80357  \n",
       "386                5.0           99870  "
      ]
     },
     "execution_count": 41,
     "metadata": {},
     "output_type": "execute_result"
    }
   ],
   "source": [
    "df3[df3['Year'] == 1988]"
   ]
  },
  {
   "cell_type": "markdown",
   "metadata": {},
   "source": [
    "The graph and the values shows that the year having maximum/minimum Unemployment rate has maximum/minimum unemployment insurance claims."
   ]
  },
  {
   "cell_type": "markdown",
   "metadata": {},
   "source": [
    "## Question 1: In which season(part of the year) the unployment rate and claims are highest for the last 30 years?"
   ]
  },
  {
   "cell_type": "code",
   "execution_count": 42,
   "metadata": {},
   "outputs": [],
   "source": [
    "#Calculating Means for each month\n",
    "unemployed=[]\n",
    "claims = []\n",
    "unemp_rate=[]\n",
    "for m in month:\n",
    "    mdf = df3[df3['Month'] == m]\n",
    "    claims.append(mean(mdf['Initial Claims']))\n",
    "    unemployed.append(mean(mdf.Unemployed))\n",
    "    unemp_rate.append(mean(mdf['Unemployment Rate']))"
   ]
  },
  {
   "cell_type": "code",
   "execution_count": 43,
   "metadata": {},
   "outputs": [
    {
     "data": {
      "image/png": "[encoded data removed]",
      "text/plain": [
       "<Figure size 720x360 with 1 Axes>"
      ]
     },
     "metadata": {
      "needs_background": "light"
     },
     "output_type": "display_data"
    }
   ],
   "source": [
    "plt.figure(  figsize = (10,5) )\n",
    "plt.bar(month,unemployed)\n",
    "plt.bar(month,claims)\n",
    "plt.xticks(month)\n",
    "plt.xlabel('Month')\n",
    "plt.ylabel('Population')\n",
    "plt.legend(['Unemployed','Claims'])\n",
    "plt.title('Unemployed vs Unemployment Claims')\n",
    "plt.show() "
   ]
  },
  {
   "cell_type": "code",
   "execution_count": 44,
   "metadata": {},
   "outputs": [
    {
     "data": {
      "image/png": "[encoded data removed]",
      "text/plain": [
       "<Figure size 432x288 with 1 Axes>"
      ]
     },
     "metadata": {
      "needs_background": "light"
     },
     "output_type": "display_data"
    }
   ],
   "source": [
    "plt.plot(month,unemployed)\n",
    "plt.plot(month,claims)\n",
    "plt.xticks(month)\n",
    "plt.xlabel('Month')\n",
    "plt.ylabel('Population')\n",
    "plt.legend(['Unemployed','Claims'])\n",
    "plt.title('Unemployed vs Unemployment Claims')\n",
    "plt.show() "
   ]
  },
  {
   "cell_type": "code",
   "execution_count": 45,
   "metadata": {},
   "outputs": [
    {
     "data": {
      "image/png": "[encoded data removed]",
      "text/plain": [
       "<Figure size 432x288 with 1 Axes>"
      ]
     },
     "metadata": {
      "needs_background": "light"
     },
     "output_type": "display_data"
    }
   ],
   "source": [
    "plt.plot(month,unemployed)\n",
    "plt.xticks(month)\n",
    "plt.xlabel('Month')\n",
    "plt.ylabel('Population')\n",
    "plt.legend(['Unemployed'])\n",
    "plt.title('Unemployed  vs Month')\n",
    "plt.show() "
   ]
  },
  {
   "cell_type": "code",
   "execution_count": 46,
   "metadata": {},
   "outputs": [
    {
     "data": {
      "image/png": "[encoded data removed]",
      "text/plain": [
       "<Figure size 432x288 with 1 Axes>"
      ]
     },
     "metadata": {
      "needs_background": "light"
     },
     "output_type": "display_data"
    }
   ],
   "source": [
    "plt.plot(month,unemp_rate)\n",
    "plt.xticks(month)\n",
    "plt.xlabel('Month')\n",
    "plt.ylabel('Unemployment Rate(%)')\n",
    "plt.title('Unemployment Rate vs Month')\n",
    "plt.show() "
   ]
  },
  {
   "cell_type": "code",
   "execution_count": 47,
   "metadata": {},
   "outputs": [
    {
     "data": {
      "image/png": "[encoded data removed]",
      "text/plain": [
       "<Figure size 432x288 with 1 Axes>"
      ]
     },
     "metadata": {
      "needs_background": "light"
     },
     "output_type": "display_data"
    }
   ],
   "source": [
    "plt.plot(month,claims)\n",
    "plt.xticks(month)\n",
    "plt.xlabel('Month')\n",
    "plt.ylabel('Claims')\n",
    "plt.title('Unemployment Claims vs Month')\n",
    "plt.show() "
   ]
  },
  {
   "cell_type": "markdown",
   "metadata": {},
   "source": [
    "The umployment claims is highest during winter period.\n",
    "It starts increasing at the year end till feb.\n",
    "Wheresas, the unemployment and unemployment rate  is maximum in january."
   ]
  },
  {
   "cell_type": "markdown",
   "metadata": {},
   "source": [
    "## Documentation on cleaning and tidying\n",
    "\n",
    "1) Checked null values (No null values).\n",
    "\n",
    "2) Checked range of values(Valid values).\n",
    "\n",
    "3) Renamed Columns to appropriate names. \n",
    "\n",
    "4) Removed Duplicate data.\n",
    "\n",
    "5) Changed date column to month and year for merging the data.\n",
    "\n",
    "6) Converted datatype to match its meaning.\n",
    "\n",
    "Column 'Period Ending' Changed To 'Month' and 'Year'. "
   ]
  },
  {
   "cell_type": "markdown",
   "metadata": {},
   "source": [
    "I learned :\n",
    "    how to analyse the data using various methods,\n",
    "    the whole process of Cleaning  the data,\n",
    "    how to choose suitable visualisation and applying it to the data.  \n",
    "    How to relate two variable using graph and math.\n",
    "    "
   ]
  }
 ],
 "metadata": {
  "kernelspec": {
   "display_name": "Python 3",
   "language": "python",
   "name": "python3"
  },
  "language_info": {
   "codemirror_mode": {
    "name": "ipython",
    "version": 3
   },
   "file_extension": ".py",
   "mimetype": "text/x-python",
   "name": "python",
   "nbconvert_exporter": "python",
   "pygments_lexer": "ipython3",
   "version": "3.7.4"
  }
 },
 "nbformat": 4,
 "nbformat_minor": 4
}

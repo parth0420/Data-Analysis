{
 "cells": [
  {
   "cell_type": "markdown",
   "metadata": {},
   "source": [
    "# DATA: Police Arrests Made by the Chapel Hill Police Department since 2010 \n",
    "## Proposal\n",
    "Data Source Link:https://www.chapelhillopendata.org/explore/dataset/police-arrests-made/information/?sort=date_of_arrest\n",
    "\n",
    "The Data is from Chapel Hill Open Data, A Chapel Hill Public Library Service.\n",
    "\n",
    "The Publisher of this data is Town of Chapel Hill Police Department.\n",
    "\n",
    "This dataset is licensed under: Open Database License (ODbL) which is free to use, re-use and redistribute — without any legal, technological or social restriction. #REF : https://okfn.org/opendata/\n",
    "\n",
    "The Data was free to use and download (No Registration required).\n",
    "\n",
    "I found this data in one of the links you provided with the tag 'Crime'.\n",
    "\n",
    "I am analyzing this data to understand crime scenarios in the US.\n",
    "\n",
    "Size of Data: 16254 rows x 17 columns, 2,652 KB\n",
    "\n",
    "This table contains arrests made by the Chapel Hill Police Department.\n",
    "(Multiple individuals may have been arrested under the same arrest number during related incidents or arrests.)\n",
    "\n",
    "Data available since January 1, 2010 and updated quarterly.\n",
    "\n",
    "The columns represent Incident Id, Primary Charge, Address, Date and Time of the arrest, Demographic Characteristics(Age, Race, Gender, Ethnicity), Type of arrest, Drugs or Alcohol Present(y/n), Weapon Present, Disposition(how the case resolved).\n",
    "\n",
    "### Hypothesis:\n",
    "\n",
    "1) More than 50% of the Data has incidents involving  Alcohol or Drugs.\n",
    "\n",
    "Answer : Yes,the percentage of Incidents invloving Drugs or Alcohol is 58.6 % \n",
    "\n",
    "\n",
    "2) The people in the age group of 18 to 30 are involved more in crime than people in 30 to 50 age.\n",
    "\n",
    "Answer : Yes,There are double the people involved in incidents of age 18 to 30 than the other if  people of age 18 to 30 account for half of the incidents.\n"
   ]
  },
  {
   "cell_type": "markdown",
   "metadata": {},
   "source": [
    "## Primary Observation\n",
    "The data contains crime incidents in North Carolina State.\n",
    "\n",
    "The columns represent Incident Id, Primary Charge, Address, Date and Time of the arrest, Demographic Characteristics(Age, Race, Gender, Ethnicity), Type of arrest, Drugs or Alcohol Present(y/n/u), Weapon Present, Disposition(how the case resolved).\n",
    "\n",
    "### Data Inconsistences :\n",
    "Latitude_longitude column has two values which needs to be seperaterd into two columns \n",
    "\n",
    "Columns which are of integer type is Float and string is category value. \n",
    "\n",
    "Many NaN values in the Data."
   ]
  },
  {
   "cell_type": "markdown",
   "metadata": {},
   "source": [
    "# Importing Data"
   ]
  },
  {
   "cell_type": "code",
   "execution_count": 1,
   "metadata": {},
   "outputs": [],
   "source": [
    "import pandas as pd\n",
    "import matplotlib.pyplot as plt\n",
    "import numpy as np"
   ]
  },
  {
   "cell_type": "code",
   "execution_count": 2,
   "metadata": {},
   "outputs": [],
   "source": [
    "df = pd.read_csv('https://www.chapelhillopendata.org/explore/dataset/police-arrests-made/download/?format=csv&timezone=America/New_York&lang=en&use_labels_for_header=true&csv_separator=%3B',delimiter=';')"
   ]
  },
  {
   "cell_type": "markdown",
   "metadata": {},
   "source": [
    "# Describing the Data"
   ]
  },
  {
   "cell_type": "code",
   "execution_count": 3,
   "metadata": {},
   "outputs": [
    {
     "data": {
      "text/html": [
       "<div>\n",
       "<style scoped>\n",
       "    .dataframe tbody tr th:only-of-type {\n",
       "        vertical-align: middle;\n",
       "    }\n",
       "\n",
       "    .dataframe tbody tr th {\n",
       "        vertical-align: top;\n",
       "    }\n",
       "\n",
       "    .dataframe thead th {\n",
       "        text-align: right;\n",
       "    }\n",
       "</style>\n",
       "<table border=\"1\" class=\"dataframe\">\n",
       "  <thead>\n",
       "    <tr style=\"text-align: right;\">\n",
       "      <th></th>\n",
       "      <th>Incident Id</th>\n",
       "      <th>Primary Charge</th>\n",
       "      <th>Street</th>\n",
       "      <th>City</th>\n",
       "      <th>State</th>\n",
       "      <th>Zipcode</th>\n",
       "      <th>Date of Arrest</th>\n",
       "      <th>Time of Arrest</th>\n",
       "      <th>Age</th>\n",
       "      <th>Race</th>\n",
       "      <th>Gender</th>\n",
       "      <th>Ethnicity</th>\n",
       "      <th>Type of Arrest</th>\n",
       "      <th>Drugs or Alcohol Present</th>\n",
       "      <th>Weapon Present</th>\n",
       "      <th>Disposition</th>\n",
       "      <th>latitude_longitude</th>\n",
       "    </tr>\n",
       "  </thead>\n",
       "  <tbody>\n",
       "    <tr>\n",
       "      <td>0</td>\n",
       "      <td>40515</td>\n",
       "      <td>ASSAULT-SIMPLE</td>\n",
       "      <td>117 OLD DURHAM RD</td>\n",
       "      <td>CHAPEL HILL</td>\n",
       "      <td>NC</td>\n",
       "      <td>27517.0</td>\n",
       "      <td>2019-08-26</td>\n",
       "      <td>10:17 PM</td>\n",
       "      <td>25.0</td>\n",
       "      <td>W</td>\n",
       "      <td>F</td>\n",
       "      <td>N</td>\n",
       "      <td>ON VIEW</td>\n",
       "      <td>Y</td>\n",
       "      <td>UNARMED</td>\n",
       "      <td>CLEARED BY ARREST</td>\n",
       "      <td>35.94424056,-79.01174063</td>\n",
       "    </tr>\n",
       "    <tr>\n",
       "      <td>1</td>\n",
       "      <td>40498</td>\n",
       "      <td>FAIL TO APPEAR/COMPL</td>\n",
       "      <td>214 W ROSEMARY ST</td>\n",
       "      <td>CHAPEL HILL</td>\n",
       "      <td>NC</td>\n",
       "      <td>27516.0</td>\n",
       "      <td>2019-08-26</td>\n",
       "      <td>8:51 AM</td>\n",
       "      <td>27.0</td>\n",
       "      <td>B</td>\n",
       "      <td>M</td>\n",
       "      <td>N</td>\n",
       "      <td>TAKEN INTO CUSTODY (WARRANT/LP)</td>\n",
       "      <td>N</td>\n",
       "      <td>UNARMED</td>\n",
       "      <td>CLEARED BY ARREST</td>\n",
       "      <td>35.913341985,-79.058293957</td>\n",
       "    </tr>\n",
       "    <tr>\n",
       "      <td>2</td>\n",
       "      <td>40496</td>\n",
       "      <td>PUBLIC URINATION</td>\n",
       "      <td>107 EPHESUS CHURCH RD/LEGION RD</td>\n",
       "      <td>CHAPEL HILL</td>\n",
       "      <td>NC</td>\n",
       "      <td>27517.0</td>\n",
       "      <td>2019-08-26</td>\n",
       "      <td>8:15 PM</td>\n",
       "      <td>57.0</td>\n",
       "      <td>B</td>\n",
       "      <td>M</td>\n",
       "      <td>N</td>\n",
       "      <td>SUMMONED/CITED</td>\n",
       "      <td>Y</td>\n",
       "      <td>UNARMED</td>\n",
       "      <td>CLEARED BY ARREST</td>\n",
       "      <td>35.935056,-79.0219395</td>\n",
       "    </tr>\n",
       "    <tr>\n",
       "      <td>3</td>\n",
       "      <td>40497</td>\n",
       "      <td>AFFRAY/ASSAULT &amp; BATTERY</td>\n",
       "      <td>117 OLD DURHAM RD</td>\n",
       "      <td>CHAPEL HILL</td>\n",
       "      <td>NC</td>\n",
       "      <td>27517.0</td>\n",
       "      <td>2019-08-26</td>\n",
       "      <td>10:17 PM</td>\n",
       "      <td>55.0</td>\n",
       "      <td>B</td>\n",
       "      <td>M</td>\n",
       "      <td>N</td>\n",
       "      <td>ON VIEW</td>\n",
       "      <td>Y</td>\n",
       "      <td>UNARMED</td>\n",
       "      <td>CLEARED BY ARREST</td>\n",
       "      <td>35.94424056,-79.01174063</td>\n",
       "    </tr>\n",
       "    <tr>\n",
       "      <td>4</td>\n",
       "      <td>40495</td>\n",
       "      <td>ASSAULT-SIMPLE</td>\n",
       "      <td>233 MCCAULEY STREET</td>\n",
       "      <td>CHAPEL HILL</td>\n",
       "      <td>NC</td>\n",
       "      <td>27514.0</td>\n",
       "      <td>2019-08-26</td>\n",
       "      <td>7:27 AM</td>\n",
       "      <td>21.0</td>\n",
       "      <td>W</td>\n",
       "      <td>F</td>\n",
       "      <td>N</td>\n",
       "      <td>SUMMONED/CITED</td>\n",
       "      <td>N</td>\n",
       "      <td>UNARMED</td>\n",
       "      <td>CLEARED BY ARREST</td>\n",
       "      <td>35.907198362,-79.057233541</td>\n",
       "    </tr>\n",
       "  </tbody>\n",
       "</table>\n",
       "</div>"
      ],
      "text/plain": [
       "   Incident Id            Primary Charge                           Street  \\\n",
       "0        40515            ASSAULT-SIMPLE                117 OLD DURHAM RD   \n",
       "1        40498      FAIL TO APPEAR/COMPL                214 W ROSEMARY ST   \n",
       "2        40496          PUBLIC URINATION  107 EPHESUS CHURCH RD/LEGION RD   \n",
       "3        40497  AFFRAY/ASSAULT & BATTERY                117 OLD DURHAM RD   \n",
       "4        40495            ASSAULT-SIMPLE              233 MCCAULEY STREET   \n",
       "\n",
       "          City State  Zipcode Date of Arrest Time of Arrest   Age Race Gender  \\\n",
       "0  CHAPEL HILL    NC  27517.0     2019-08-26       10:17 PM  25.0    W      F   \n",
       "1  CHAPEL HILL    NC  27516.0     2019-08-26        8:51 AM  27.0    B      M   \n",
       "2  CHAPEL HILL    NC  27517.0     2019-08-26        8:15 PM  57.0    B      M   \n",
       "3  CHAPEL HILL    NC  27517.0     2019-08-26       10:17 PM  55.0    B      M   \n",
       "4  CHAPEL HILL    NC  27514.0     2019-08-26        7:27 AM  21.0    W      F   \n",
       "\n",
       "  Ethnicity                   Type of Arrest Drugs or Alcohol Present  \\\n",
       "0         N                          ON VIEW                        Y   \n",
       "1         N  TAKEN INTO CUSTODY (WARRANT/LP)                        N   \n",
       "2         N                   SUMMONED/CITED                        Y   \n",
       "3         N                          ON VIEW                        Y   \n",
       "4         N                   SUMMONED/CITED                        N   \n",
       "\n",
       "  Weapon Present        Disposition          latitude_longitude  \n",
       "0        UNARMED  CLEARED BY ARREST    35.94424056,-79.01174063  \n",
       "1        UNARMED  CLEARED BY ARREST  35.913341985,-79.058293957  \n",
       "2        UNARMED  CLEARED BY ARREST       35.935056,-79.0219395  \n",
       "3        UNARMED  CLEARED BY ARREST    35.94424056,-79.01174063  \n",
       "4        UNARMED  CLEARED BY ARREST  35.907198362,-79.057233541  "
      ]
     },
     "execution_count": 3,
     "metadata": {},
     "output_type": "execute_result"
    }
   ],
   "source": [
    "df.head()"
   ]
  },
  {
   "cell_type": "code",
   "execution_count": 4,
   "metadata": {},
   "outputs": [
    {
     "data": {
      "text/html": [
       "<div>\n",
       "<style scoped>\n",
       "    .dataframe tbody tr th:only-of-type {\n",
       "        vertical-align: middle;\n",
       "    }\n",
       "\n",
       "    .dataframe tbody tr th {\n",
       "        vertical-align: top;\n",
       "    }\n",
       "\n",
       "    .dataframe thead th {\n",
       "        text-align: right;\n",
       "    }\n",
       "</style>\n",
       "<table border=\"1\" class=\"dataframe\">\n",
       "  <thead>\n",
       "    <tr style=\"text-align: right;\">\n",
       "      <th></th>\n",
       "      <th>Incident Id</th>\n",
       "      <th>Primary Charge</th>\n",
       "      <th>Street</th>\n",
       "      <th>City</th>\n",
       "      <th>State</th>\n",
       "      <th>Zipcode</th>\n",
       "      <th>Date of Arrest</th>\n",
       "      <th>Time of Arrest</th>\n",
       "      <th>Age</th>\n",
       "      <th>Race</th>\n",
       "      <th>Gender</th>\n",
       "      <th>Ethnicity</th>\n",
       "      <th>Type of Arrest</th>\n",
       "      <th>Drugs or Alcohol Present</th>\n",
       "      <th>Weapon Present</th>\n",
       "      <th>Disposition</th>\n",
       "      <th>latitude_longitude</th>\n",
       "    </tr>\n",
       "  </thead>\n",
       "  <tbody>\n",
       "    <tr>\n",
       "      <td>16249</td>\n",
       "      <td>24072</td>\n",
       "      <td>UNDERAGE POSSESSION</td>\n",
       "      <td>2551 OWENS CT</td>\n",
       "      <td>CHAPEL HILL</td>\n",
       "      <td>NC</td>\n",
       "      <td>27514.0</td>\n",
       "      <td>2010-01-01</td>\n",
       "      <td>12:13 AM</td>\n",
       "      <td>19.0</td>\n",
       "      <td>W</td>\n",
       "      <td>M</td>\n",
       "      <td>NaN</td>\n",
       "      <td>ON VIEW</td>\n",
       "      <td>Y</td>\n",
       "      <td>UNARMED</td>\n",
       "      <td>ARREST/NO INVESTIGATION</td>\n",
       "      <td>35.951177287,-79.027807612</td>\n",
       "    </tr>\n",
       "    <tr>\n",
       "      <td>16250</td>\n",
       "      <td>24081</td>\n",
       "      <td>FAIL TO APPEAR/COMPL</td>\n",
       "      <td>405 PERRY CREEK DRIVE</td>\n",
       "      <td>CHAPEL HILL</td>\n",
       "      <td>NC</td>\n",
       "      <td>27516.0</td>\n",
       "      <td>2010-01-01</td>\n",
       "      <td>12:56 PM</td>\n",
       "      <td>18.0</td>\n",
       "      <td>W</td>\n",
       "      <td>F</td>\n",
       "      <td>N</td>\n",
       "      <td>TAKEN INTO CUSTODY (WARRANT/LP)</td>\n",
       "      <td>N</td>\n",
       "      <td>UNARMED</td>\n",
       "      <td>ARREST/NO INVESTIGATION</td>\n",
       "      <td>35.959746186,-79.020364172</td>\n",
       "    </tr>\n",
       "    <tr>\n",
       "      <td>16251</td>\n",
       "      <td>24065</td>\n",
       "      <td>UNDERAGE POSSESSION</td>\n",
       "      <td>505 RED BUD RD</td>\n",
       "      <td>CHAPEL HILL</td>\n",
       "      <td>NC</td>\n",
       "      <td>27514.0</td>\n",
       "      <td>2010-01-01</td>\n",
       "      <td>12:24 AM</td>\n",
       "      <td>18.0</td>\n",
       "      <td>W</td>\n",
       "      <td>M</td>\n",
       "      <td>NaN</td>\n",
       "      <td>ON VIEW</td>\n",
       "      <td>Y</td>\n",
       "      <td>UNARMED</td>\n",
       "      <td>CLEARED BY ARREST</td>\n",
       "      <td>35.950621974,-79.029413263</td>\n",
       "    </tr>\n",
       "    <tr>\n",
       "      <td>16252</td>\n",
       "      <td>24082</td>\n",
       "      <td>RESISTING ARREST</td>\n",
       "      <td>110 NEW STATESIDE DR</td>\n",
       "      <td>CHAPEL HILL</td>\n",
       "      <td>NC</td>\n",
       "      <td>27516.0</td>\n",
       "      <td>2010-01-01</td>\n",
       "      <td>3:42 PM</td>\n",
       "      <td>27.0</td>\n",
       "      <td>W</td>\n",
       "      <td>M</td>\n",
       "      <td>N</td>\n",
       "      <td>ON VIEW</td>\n",
       "      <td>U</td>\n",
       "      <td>UNARMED</td>\n",
       "      <td>CLEARED BY ARREST</td>\n",
       "      <td>35.955344973,-79.05981355</td>\n",
       "    </tr>\n",
       "    <tr>\n",
       "      <td>16253</td>\n",
       "      <td>24080</td>\n",
       "      <td>FAIL TO APPEAR/COMPL</td>\n",
       "      <td>113 NORTH ESTES DRIVE</td>\n",
       "      <td>CHAPEL HILL</td>\n",
       "      <td>NC</td>\n",
       "      <td>27514.0</td>\n",
       "      <td>2010-01-01</td>\n",
       "      <td>7:52 AM</td>\n",
       "      <td>18.0</td>\n",
       "      <td>W</td>\n",
       "      <td>M</td>\n",
       "      <td>NaN</td>\n",
       "      <td>TAKEN INTO CUSTODY (WARRANT/LP)</td>\n",
       "      <td>N</td>\n",
       "      <td>UNARMED</td>\n",
       "      <td>ARREST/NO INVESTIGATION</td>\n",
       "      <td>35.930017667,-79.036681164</td>\n",
       "    </tr>\n",
       "  </tbody>\n",
       "</table>\n",
       "</div>"
      ],
      "text/plain": [
       "       Incident Id        Primary Charge                 Street         City  \\\n",
       "16249        24072   UNDERAGE POSSESSION          2551 OWENS CT  CHAPEL HILL   \n",
       "16250        24081  FAIL TO APPEAR/COMPL  405 PERRY CREEK DRIVE  CHAPEL HILL   \n",
       "16251        24065   UNDERAGE POSSESSION         505 RED BUD RD  CHAPEL HILL   \n",
       "16252        24082      RESISTING ARREST   110 NEW STATESIDE DR  CHAPEL HILL   \n",
       "16253        24080  FAIL TO APPEAR/COMPL  113 NORTH ESTES DRIVE  CHAPEL HILL   \n",
       "\n",
       "      State  Zipcode Date of Arrest Time of Arrest   Age Race Gender  \\\n",
       "16249    NC  27514.0     2010-01-01       12:13 AM  19.0    W      M   \n",
       "16250    NC  27516.0     2010-01-01       12:56 PM  18.0    W      F   \n",
       "16251    NC  27514.0     2010-01-01       12:24 AM  18.0    W      M   \n",
       "16252    NC  27516.0     2010-01-01        3:42 PM  27.0    W      M   \n",
       "16253    NC  27514.0     2010-01-01        7:52 AM  18.0    W      M   \n",
       "\n",
       "      Ethnicity                   Type of Arrest Drugs or Alcohol Present  \\\n",
       "16249       NaN                          ON VIEW                        Y   \n",
       "16250         N  TAKEN INTO CUSTODY (WARRANT/LP)                        N   \n",
       "16251       NaN                          ON VIEW                        Y   \n",
       "16252         N                          ON VIEW                        U   \n",
       "16253       NaN  TAKEN INTO CUSTODY (WARRANT/LP)                        N   \n",
       "\n",
       "      Weapon Present              Disposition          latitude_longitude  \n",
       "16249        UNARMED  ARREST/NO INVESTIGATION  35.951177287,-79.027807612  \n",
       "16250        UNARMED  ARREST/NO INVESTIGATION  35.959746186,-79.020364172  \n",
       "16251        UNARMED        CLEARED BY ARREST  35.950621974,-79.029413263  \n",
       "16252        UNARMED        CLEARED BY ARREST   35.955344973,-79.05981355  \n",
       "16253        UNARMED  ARREST/NO INVESTIGATION  35.930017667,-79.036681164  "
      ]
     },
     "execution_count": 4,
     "metadata": {},
     "output_type": "execute_result"
    }
   ],
   "source": [
    "df.tail()"
   ]
  },
  {
   "cell_type": "code",
   "execution_count": 5,
   "metadata": {},
   "outputs": [
    {
     "name": "stdout",
     "output_type": "stream",
     "text": [
      "<class 'pandas.core.frame.DataFrame'>\n",
      "RangeIndex: 16254 entries, 0 to 16253\n",
      "Data columns (total 17 columns):\n",
      "Incident Id                 16254 non-null int64\n",
      "Primary Charge              16254 non-null object\n",
      "Street                      16240 non-null object\n",
      "City                        16206 non-null object\n",
      "State                       16181 non-null object\n",
      "Zipcode                     15366 non-null float64\n",
      "Date of Arrest              16254 non-null object\n",
      "Time of Arrest              16254 non-null object\n",
      "Age                         15286 non-null float64\n",
      "Race                        15285 non-null object\n",
      "Gender                      15285 non-null object\n",
      "Ethnicity                   11328 non-null object\n",
      "Type of Arrest              16253 non-null object\n",
      "Drugs or Alcohol Present    15905 non-null object\n",
      "Weapon Present              16160 non-null object\n",
      "Disposition                 16245 non-null object\n",
      "latitude_longitude          16254 non-null object\n",
      "dtypes: float64(2), int64(1), object(14)\n",
      "memory usage: 2.1+ MB\n"
     ]
    }
   ],
   "source": [
    "df.info()"
   ]
  },
  {
   "cell_type": "code",
   "execution_count": 6,
   "metadata": {},
   "outputs": [
    {
     "name": "stdout",
     "output_type": "stream",
     "text": [
      "Rows =  16254  Columns =  17\n"
     ]
    }
   ],
   "source": [
    "print( 'Rows = ', df.shape[0] , ' Columns = ', df.shape[1] ) "
   ]
  },
  {
   "cell_type": "code",
   "execution_count": 7,
   "metadata": {},
   "outputs": [
    {
     "data": {
      "text/plain": [
       "Incident Id                    0\n",
       "Primary Charge                 0\n",
       "Street                        14\n",
       "City                          48\n",
       "State                         73\n",
       "Zipcode                      888\n",
       "Date of Arrest                 0\n",
       "Time of Arrest                 0\n",
       "Age                          968\n",
       "Race                         969\n",
       "Gender                       969\n",
       "Ethnicity                   4926\n",
       "Type of Arrest                 1\n",
       "Drugs or Alcohol Present     349\n",
       "Weapon Present                94\n",
       "Disposition                    9\n",
       "latitude_longitude             0\n",
       "dtype: int64"
      ]
     },
     "execution_count": 7,
     "metadata": {},
     "output_type": "execute_result"
    }
   ],
   "source": [
    "df.isna().sum() # To check null values in Columns"
   ]
  },
  {
   "cell_type": "code",
   "execution_count": 8,
   "metadata": {},
   "outputs": [
    {
     "data": {
      "text/plain": [
       "Ethnicity                   0.303064\n",
       "Gender                      0.059616\n",
       "Race                        0.059616\n",
       "Age                         0.059555\n",
       "Zipcode                     0.054633\n",
       "Drugs or Alcohol Present    0.021472\n",
       "Weapon Present              0.005783\n",
       "State                       0.004491\n",
       "City                        0.002953\n",
       "Street                      0.000861\n",
       "Disposition                 0.000554\n",
       "Type of Arrest              0.000062\n",
       "Primary Charge              0.000000\n",
       "latitude_longitude          0.000000\n",
       "Date of Arrest              0.000000\n",
       "Time of Arrest              0.000000\n",
       "Incident Id                 0.000000\n",
       "dtype: float64"
      ]
     },
     "execution_count": 8,
     "metadata": {},
     "output_type": "execute_result"
    }
   ],
   "source": [
    "(df.isnull().sum()/len(df)).sort_values(ascending=False)"
   ]
  },
  {
   "cell_type": "code",
   "execution_count": 9,
   "metadata": {},
   "outputs": [
    {
     "data": {
      "text/plain": [
       "Index(['Incident Id', 'Primary Charge', 'Street', 'City', 'State', 'Zipcode',\n",
       "       'Date of Arrest', 'Time of Arrest', 'Age', 'Race', 'Gender',\n",
       "       'Ethnicity', 'Type of Arrest', 'Drugs or Alcohol Present',\n",
       "       'Weapon Present', 'Disposition', 'latitude_longitude'],\n",
       "      dtype='object')"
      ]
     },
     "execution_count": 9,
     "metadata": {},
     "output_type": "execute_result"
    }
   ],
   "source": [
    "df.columns"
   ]
  },
  {
   "cell_type": "markdown",
   "metadata": {},
   "source": [
    "# Cleaning the Data"
   ]
  },
  {
   "cell_type": "code",
   "execution_count": 10,
   "metadata": {},
   "outputs": [
    {
     "data": {
      "text/plain": [
       "0"
      ]
     },
     "execution_count": 10,
     "metadata": {},
     "output_type": "execute_result"
    }
   ],
   "source": [
    "df[df.duplicated()].shape[0]        #Checking Duplicate Data "
   ]
  },
  {
   "cell_type": "code",
   "execution_count": 11,
   "metadata": {},
   "outputs": [
    {
     "data": {
      "text/html": [
       "<div>\n",
       "<style scoped>\n",
       "    .dataframe tbody tr th:only-of-type {\n",
       "        vertical-align: middle;\n",
       "    }\n",
       "\n",
       "    .dataframe tbody tr th {\n",
       "        vertical-align: top;\n",
       "    }\n",
       "\n",
       "    .dataframe thead th {\n",
       "        text-align: right;\n",
       "    }\n",
       "</style>\n",
       "<table border=\"1\" class=\"dataframe\">\n",
       "  <thead>\n",
       "    <tr style=\"text-align: right;\">\n",
       "      <th></th>\n",
       "      <th>Incident Id</th>\n",
       "      <th>Primary Charge</th>\n",
       "      <th>Street</th>\n",
       "      <th>City</th>\n",
       "      <th>State</th>\n",
       "      <th>Zipcode</th>\n",
       "      <th>Date of Arrest</th>\n",
       "      <th>Time of Arrest</th>\n",
       "      <th>Age</th>\n",
       "      <th>Race</th>\n",
       "      <th>Gender</th>\n",
       "      <th>Ethnicity</th>\n",
       "      <th>Type of Arrest</th>\n",
       "      <th>Drugs or Alcohol Present</th>\n",
       "      <th>Weapon Present</th>\n",
       "      <th>Disposition</th>\n",
       "      <th>latitude_longitude</th>\n",
       "    </tr>\n",
       "  </thead>\n",
       "  <tbody>\n",
       "  </tbody>\n",
       "</table>\n",
       "</div>"
      ],
      "text/plain": [
       "Empty DataFrame\n",
       "Columns: [Incident Id, Primary Charge, Street, City, State, Zipcode, Date of Arrest, Time of Arrest, Age, Race, Gender, Ethnicity, Type of Arrest, Drugs or Alcohol Present, Weapon Present, Disposition, latitude_longitude]\n",
       "Index: []"
      ]
     },
     "execution_count": 11,
     "metadata": {},
     "output_type": "execute_result"
    }
   ],
   "source": [
    "df[df.duplicated( [ 'Incident Id' ]) ]   #No repeated incident ID"
   ]
  },
  {
   "cell_type": "markdown",
   "metadata": {},
   "source": [
    "Dropping State Column"
   ]
  },
  {
   "cell_type": "code",
   "execution_count": 12,
   "metadata": {},
   "outputs": [],
   "source": [
    "df.drop( columns = 'State' , inplace=True ) # Dropping State Column as it only contains one unique value 'NC' \n",
    "\n",
    "#To edit the original DataFrame, the “inplace” parameter can be set to True, and there is no returned value."
   ]
  },
  {
   "cell_type": "markdown",
   "metadata": {},
   "source": [
    "As latitude_longitude column has 2 fields,we are Splitting it into two columns - Latitude and Longitude"
   ]
  },
  {
   "cell_type": "code",
   "execution_count": 13,
   "metadata": {},
   "outputs": [],
   "source": [
    "df[[ 'Latitude' , 'Longitude' ]] = df[ 'latitude_longitude' ].str.split( ',' ,  expand=True )      # n=1 : for only 1 seperation "
   ]
  },
  {
   "cell_type": "markdown",
   "metadata": {},
   "source": [
    "Merging date and time"
   ]
  },
  {
   "cell_type": "code",
   "execution_count": 14,
   "metadata": {},
   "outputs": [],
   "source": [
    "df[ 'Date and Time of Arrest' ] = df[ 'Date of Arrest' ].str.cat(df[ 'Time of Arrest' ], sep=\" \")  #  Concatenating  date and time"
   ]
  },
  {
   "cell_type": "code",
   "execution_count": 15,
   "metadata": {},
   "outputs": [],
   "source": [
    "df[ 'Date and Time of Arrest' ] =  pd.to_datetime( df[ 'Date and Time of Arrest' ] ) # Converting object to datetime datatype"
   ]
  },
  {
   "cell_type": "code",
   "execution_count": 16,
   "metadata": {},
   "outputs": [],
   "source": [
    "df.drop( columns = [ 'Date of Arrest','Time of Arrest','latitude_longitude'] , inplace=True )  #Dropping columns"
   ]
  },
  {
   "cell_type": "code",
   "execution_count": 17,
   "metadata": {},
   "outputs": [
    {
     "data": {
      "text/plain": [
       "Incident Id                          int64\n",
       "Primary Charge                      object\n",
       "Street                              object\n",
       "City                                object\n",
       "Zipcode                            float64\n",
       "Age                                float64\n",
       "Race                                object\n",
       "Gender                              object\n",
       "Ethnicity                           object\n",
       "Type of Arrest                      object\n",
       "Drugs or Alcohol Present            object\n",
       "Weapon Present                      object\n",
       "Disposition                         object\n",
       "Latitude                            object\n",
       "Longitude                           object\n",
       "Date and Time of Arrest     datetime64[ns]\n",
       "dtype: object"
      ]
     },
     "execution_count": 17,
     "metadata": {},
     "output_type": "execute_result"
    }
   ],
   "source": [
    "df.dtypes"
   ]
  },
  {
   "cell_type": "code",
   "execution_count": 18,
   "metadata": {},
   "outputs": [],
   "source": [
    "df[ 'Latitude' ] = df[ 'Latitude' ].astype(float)  "
   ]
  },
  {
   "cell_type": "code",
   "execution_count": 19,
   "metadata": {},
   "outputs": [],
   "source": [
    "df[ 'Longitude' ] = df[ 'Longitude'  ].astype(float)"
   ]
  },
  {
   "cell_type": "code",
   "execution_count": 20,
   "metadata": {},
   "outputs": [
    {
     "data": {
      "text/html": [
       "<div>\n",
       "<style scoped>\n",
       "    .dataframe tbody tr th:only-of-type {\n",
       "        vertical-align: middle;\n",
       "    }\n",
       "\n",
       "    .dataframe tbody tr th {\n",
       "        vertical-align: top;\n",
       "    }\n",
       "\n",
       "    .dataframe thead th {\n",
       "        text-align: right;\n",
       "    }\n",
       "</style>\n",
       "<table border=\"1\" class=\"dataframe\">\n",
       "  <thead>\n",
       "    <tr style=\"text-align: right;\">\n",
       "      <th></th>\n",
       "      <th>Incident Id</th>\n",
       "      <th>Primary Charge</th>\n",
       "      <th>Street</th>\n",
       "      <th>City</th>\n",
       "      <th>Zipcode</th>\n",
       "      <th>Age</th>\n",
       "      <th>Race</th>\n",
       "      <th>Gender</th>\n",
       "      <th>Ethnicity</th>\n",
       "      <th>Type of Arrest</th>\n",
       "      <th>Drugs or Alcohol Present</th>\n",
       "      <th>Weapon Present</th>\n",
       "      <th>Disposition</th>\n",
       "      <th>Latitude</th>\n",
       "      <th>Longitude</th>\n",
       "      <th>Date and Time of Arrest</th>\n",
       "    </tr>\n",
       "  </thead>\n",
       "  <tbody>\n",
       "    <tr>\n",
       "      <td>0</td>\n",
       "      <td>40515</td>\n",
       "      <td>ASSAULT-SIMPLE</td>\n",
       "      <td>117 OLD DURHAM RD</td>\n",
       "      <td>CHAPEL HILL</td>\n",
       "      <td>27517.0</td>\n",
       "      <td>25.0</td>\n",
       "      <td>W</td>\n",
       "      <td>F</td>\n",
       "      <td>N</td>\n",
       "      <td>ON VIEW</td>\n",
       "      <td>Y</td>\n",
       "      <td>UNARMED</td>\n",
       "      <td>CLEARED BY ARREST</td>\n",
       "      <td>35.944241</td>\n",
       "      <td>-79.011741</td>\n",
       "      <td>2019-08-26 22:17:00</td>\n",
       "    </tr>\n",
       "    <tr>\n",
       "      <td>1</td>\n",
       "      <td>40498</td>\n",
       "      <td>FAIL TO APPEAR/COMPL</td>\n",
       "      <td>214 W ROSEMARY ST</td>\n",
       "      <td>CHAPEL HILL</td>\n",
       "      <td>27516.0</td>\n",
       "      <td>27.0</td>\n",
       "      <td>B</td>\n",
       "      <td>M</td>\n",
       "      <td>N</td>\n",
       "      <td>TAKEN INTO CUSTODY (WARRANT/LP)</td>\n",
       "      <td>N</td>\n",
       "      <td>UNARMED</td>\n",
       "      <td>CLEARED BY ARREST</td>\n",
       "      <td>35.913342</td>\n",
       "      <td>-79.058294</td>\n",
       "      <td>2019-08-26 08:51:00</td>\n",
       "    </tr>\n",
       "    <tr>\n",
       "      <td>2</td>\n",
       "      <td>40496</td>\n",
       "      <td>PUBLIC URINATION</td>\n",
       "      <td>107 EPHESUS CHURCH RD/LEGION RD</td>\n",
       "      <td>CHAPEL HILL</td>\n",
       "      <td>27517.0</td>\n",
       "      <td>57.0</td>\n",
       "      <td>B</td>\n",
       "      <td>M</td>\n",
       "      <td>N</td>\n",
       "      <td>SUMMONED/CITED</td>\n",
       "      <td>Y</td>\n",
       "      <td>UNARMED</td>\n",
       "      <td>CLEARED BY ARREST</td>\n",
       "      <td>35.935056</td>\n",
       "      <td>-79.021940</td>\n",
       "      <td>2019-08-26 20:15:00</td>\n",
       "    </tr>\n",
       "    <tr>\n",
       "      <td>3</td>\n",
       "      <td>40497</td>\n",
       "      <td>AFFRAY/ASSAULT &amp; BATTERY</td>\n",
       "      <td>117 OLD DURHAM RD</td>\n",
       "      <td>CHAPEL HILL</td>\n",
       "      <td>27517.0</td>\n",
       "      <td>55.0</td>\n",
       "      <td>B</td>\n",
       "      <td>M</td>\n",
       "      <td>N</td>\n",
       "      <td>ON VIEW</td>\n",
       "      <td>Y</td>\n",
       "      <td>UNARMED</td>\n",
       "      <td>CLEARED BY ARREST</td>\n",
       "      <td>35.944241</td>\n",
       "      <td>-79.011741</td>\n",
       "      <td>2019-08-26 22:17:00</td>\n",
       "    </tr>\n",
       "    <tr>\n",
       "      <td>4</td>\n",
       "      <td>40495</td>\n",
       "      <td>ASSAULT-SIMPLE</td>\n",
       "      <td>233 MCCAULEY STREET</td>\n",
       "      <td>CHAPEL HILL</td>\n",
       "      <td>27514.0</td>\n",
       "      <td>21.0</td>\n",
       "      <td>W</td>\n",
       "      <td>F</td>\n",
       "      <td>N</td>\n",
       "      <td>SUMMONED/CITED</td>\n",
       "      <td>N</td>\n",
       "      <td>UNARMED</td>\n",
       "      <td>CLEARED BY ARREST</td>\n",
       "      <td>35.907198</td>\n",
       "      <td>-79.057234</td>\n",
       "      <td>2019-08-26 07:27:00</td>\n",
       "    </tr>\n",
       "  </tbody>\n",
       "</table>\n",
       "</div>"
      ],
      "text/plain": [
       "   Incident Id            Primary Charge                           Street  \\\n",
       "0        40515            ASSAULT-SIMPLE                117 OLD DURHAM RD   \n",
       "1        40498      FAIL TO APPEAR/COMPL                214 W ROSEMARY ST   \n",
       "2        40496          PUBLIC URINATION  107 EPHESUS CHURCH RD/LEGION RD   \n",
       "3        40497  AFFRAY/ASSAULT & BATTERY                117 OLD DURHAM RD   \n",
       "4        40495            ASSAULT-SIMPLE              233 MCCAULEY STREET   \n",
       "\n",
       "          City  Zipcode   Age Race Gender Ethnicity  \\\n",
       "0  CHAPEL HILL  27517.0  25.0    W      F         N   \n",
       "1  CHAPEL HILL  27516.0  27.0    B      M         N   \n",
       "2  CHAPEL HILL  27517.0  57.0    B      M         N   \n",
       "3  CHAPEL HILL  27517.0  55.0    B      M         N   \n",
       "4  CHAPEL HILL  27514.0  21.0    W      F         N   \n",
       "\n",
       "                    Type of Arrest Drugs or Alcohol Present Weapon Present  \\\n",
       "0                          ON VIEW                        Y        UNARMED   \n",
       "1  TAKEN INTO CUSTODY (WARRANT/LP)                        N        UNARMED   \n",
       "2                   SUMMONED/CITED                        Y        UNARMED   \n",
       "3                          ON VIEW                        Y        UNARMED   \n",
       "4                   SUMMONED/CITED                        N        UNARMED   \n",
       "\n",
       "         Disposition   Latitude  Longitude Date and Time of Arrest  \n",
       "0  CLEARED BY ARREST  35.944241 -79.011741     2019-08-26 22:17:00  \n",
       "1  CLEARED BY ARREST  35.913342 -79.058294     2019-08-26 08:51:00  \n",
       "2  CLEARED BY ARREST  35.935056 -79.021940     2019-08-26 20:15:00  \n",
       "3  CLEARED BY ARREST  35.944241 -79.011741     2019-08-26 22:17:00  \n",
       "4  CLEARED BY ARREST  35.907198 -79.057234     2019-08-26 07:27:00  "
      ]
     },
     "execution_count": 20,
     "metadata": {},
     "output_type": "execute_result"
    }
   ],
   "source": [
    "df.head()"
   ]
  },
  {
   "cell_type": "code",
   "execution_count": 21,
   "metadata": {},
   "outputs": [
    {
     "data": {
      "text/html": [
       "<div>\n",
       "<style scoped>\n",
       "    .dataframe tbody tr th:only-of-type {\n",
       "        vertical-align: middle;\n",
       "    }\n",
       "\n",
       "    .dataframe tbody tr th {\n",
       "        vertical-align: top;\n",
       "    }\n",
       "\n",
       "    .dataframe thead th {\n",
       "        text-align: right;\n",
       "    }\n",
       "</style>\n",
       "<table border=\"1\" class=\"dataframe\">\n",
       "  <thead>\n",
       "    <tr style=\"text-align: right;\">\n",
       "      <th></th>\n",
       "      <th>Primary Charge</th>\n",
       "      <th>Street</th>\n",
       "      <th>City</th>\n",
       "      <th>Race</th>\n",
       "      <th>Gender</th>\n",
       "      <th>Ethnicity</th>\n",
       "      <th>Type of Arrest</th>\n",
       "      <th>Drugs or Alcohol Present</th>\n",
       "      <th>Weapon Present</th>\n",
       "      <th>Disposition</th>\n",
       "    </tr>\n",
       "  </thead>\n",
       "  <tbody>\n",
       "    <tr>\n",
       "      <td>count</td>\n",
       "      <td>16254</td>\n",
       "      <td>16240</td>\n",
       "      <td>16206</td>\n",
       "      <td>15285</td>\n",
       "      <td>15285</td>\n",
       "      <td>11328</td>\n",
       "      <td>16253</td>\n",
       "      <td>15905</td>\n",
       "      <td>16160</td>\n",
       "      <td>16245</td>\n",
       "    </tr>\n",
       "    <tr>\n",
       "      <td>unique</td>\n",
       "      <td>1188</td>\n",
       "      <td>5861</td>\n",
       "      <td>34</td>\n",
       "      <td>7</td>\n",
       "      <td>2</td>\n",
       "      <td>3</td>\n",
       "      <td>3</td>\n",
       "      <td>3</td>\n",
       "      <td>7</td>\n",
       "      <td>2</td>\n",
       "    </tr>\n",
       "    <tr>\n",
       "      <td>top</td>\n",
       "      <td>FAIL TO APPEAR/COMPL</td>\n",
       "      <td>828 MARTIN LUTHER KING JR BLVD</td>\n",
       "      <td>CHAPEL HILL</td>\n",
       "      <td>W</td>\n",
       "      <td>M</td>\n",
       "      <td>N</td>\n",
       "      <td>ON VIEW</td>\n",
       "      <td>Y</td>\n",
       "      <td>UNARMED</td>\n",
       "      <td>CLEARED BY ARREST</td>\n",
       "    </tr>\n",
       "    <tr>\n",
       "      <td>freq</td>\n",
       "      <td>1687</td>\n",
       "      <td>588</td>\n",
       "      <td>15832</td>\n",
       "      <td>7425</td>\n",
       "      <td>12265</td>\n",
       "      <td>10356</td>\n",
       "      <td>5983</td>\n",
       "      <td>9249</td>\n",
       "      <td>15940</td>\n",
       "      <td>14837</td>\n",
       "    </tr>\n",
       "  </tbody>\n",
       "</table>\n",
       "</div>"
      ],
      "text/plain": [
       "              Primary Charge                          Street         City  \\\n",
       "count                  16254                           16240        16206   \n",
       "unique                  1188                            5861           34   \n",
       "top     FAIL TO APPEAR/COMPL  828 MARTIN LUTHER KING JR BLVD  CHAPEL HILL   \n",
       "freq                    1687                             588        15832   \n",
       "\n",
       "         Race Gender Ethnicity Type of Arrest Drugs or Alcohol Present  \\\n",
       "count   15285  15285     11328          16253                    15905   \n",
       "unique      7      2         3              3                        3   \n",
       "top         W      M         N        ON VIEW                        Y   \n",
       "freq     7425  12265     10356           5983                     9249   \n",
       "\n",
       "       Weapon Present        Disposition  \n",
       "count           16160              16245  \n",
       "unique              7                  2  \n",
       "top           UNARMED  CLEARED BY ARREST  \n",
       "freq            15940              14837  "
      ]
     },
     "execution_count": 21,
     "metadata": {},
     "output_type": "execute_result"
    }
   ],
   "source": [
    "df.describe(include=object)"
   ]
  },
  {
   "cell_type": "code",
   "execution_count": 22,
   "metadata": {},
   "outputs": [],
   "source": [
    "gender=df['Gender'].unique().tolist()"
   ]
  },
  {
   "cell_type": "code",
   "execution_count": 23,
   "metadata": {},
   "outputs": [
    {
     "name": "stdout",
     "output_type": "stream",
     "text": [
      "Unique elements in Gender ['F', 'M', nan]\n"
     ]
    }
   ],
   "source": [
    "print('Unique elements in Gender',gender)"
   ]
  },
  {
   "cell_type": "code",
   "execution_count": 24,
   "metadata": {},
   "outputs": [
    {
     "name": "stdout",
     "output_type": "stream",
     "text": [
      "Unique elements in Race ['W', 'B', 'U', 'A', nan, 'O', 'H', 'I']\n"
     ]
    }
   ],
   "source": [
    "print('Unique elements in Race',df['Race'].unique().tolist())"
   ]
  },
  {
   "cell_type": "code",
   "execution_count": 25,
   "metadata": {},
   "outputs": [
    {
     "name": "stdout",
     "output_type": "stream",
     "text": [
      "Unique elements in Ethnicity ['W', 'B', 'U', 'A', nan, 'O', 'H', 'I']\n"
     ]
    }
   ],
   "source": [
    "print('Unique elements in Ethnicity',df['Race'].unique().tolist())"
   ]
  },
  {
   "cell_type": "code",
   "execution_count": 26,
   "metadata": {},
   "outputs": [],
   "source": [
    "weapon=df['Weapon Present'].unique().tolist()"
   ]
  },
  {
   "cell_type": "code",
   "execution_count": 27,
   "metadata": {},
   "outputs": [
    {
     "name": "stdout",
     "output_type": "stream",
     "text": [
      "Unique elements in Weapon Present ['UNARMED', nan, 'HANDGUN', 'LETHAL CUTTING INSTRUMENT', 'CLUB/BLACKJACK/BRASS KNUCKLES', 'SHOTGUN', 'FIREARM (TYP NOT STATED)', 'RIFLE']\n"
     ]
    }
   ],
   "source": [
    "print('Unique elements in Weapon Present',weapon)"
   ]
  },
  {
   "cell_type": "code",
   "execution_count": 28,
   "metadata": {},
   "outputs": [
    {
     "data": {
      "text/plain": [
       "Incident Id                          int64\n",
       "Primary Charge                      object\n",
       "Street                              object\n",
       "City                                object\n",
       "Zipcode                            float64\n",
       "Age                                float64\n",
       "Race                              category\n",
       "Gender                            category\n",
       "Ethnicity                         category\n",
       "Type of Arrest                    category\n",
       "Drugs or Alcohol Present          category\n",
       "Weapon Present                    category\n",
       "Disposition                       category\n",
       "Latitude                           float64\n",
       "Longitude                          float64\n",
       "Date and Time of Arrest     datetime64[ns]\n",
       "dtype: object"
      ]
     },
     "execution_count": 28,
     "metadata": {},
     "output_type": "execute_result"
    }
   ],
   "source": [
    "df['Race'] = pd.Categorical(df.Race)\n",
    "df['Gender'] = pd.Categorical(df.Gender)\n",
    "df['Ethnicity'] = pd.Categorical(df.Ethnicity)\n",
    "df['Type of Arrest'] = pd.Categorical(df['Type of Arrest'])\n",
    "df['Drugs or Alcohol Present'] = pd.Categorical(df['Drugs or Alcohol Present'])\n",
    "df['Weapon Present'] = pd.Categorical(df['Weapon Present'])\n",
    "\n",
    "df['Disposition'] = pd.Categorical(df['Disposition'])\n",
    "\n",
    "df.dtypes"
   ]
  },
  {
   "cell_type": "code",
   "execution_count": 29,
   "metadata": {},
   "outputs": [
    {
     "data": {
      "text/plain": [
       "<matplotlib.axes._subplots.AxesSubplot at 0x29fd19532c8>"
      ]
     },
     "execution_count": 29,
     "metadata": {},
     "output_type": "execute_result"
    },
    {
     "data": {
      "image/png": "[encoded data removed]",
      "text/plain": [
       "<Figure size 432x288 with 1 Axes>"
      ]
     },
     "metadata": {
      "needs_background": "light"
     },
     "output_type": "display_data"
    }
   ],
   "source": [
    "pd.plotting.lag_plot(df.Age)  #Lag Plot for Age Column to check for patterns in missing values "
   ]
  },
  {
   "cell_type": "markdown",
   "metadata": {},
   "source": [
    "No Pattern found in missing data so dropping null rows from 'Age' and 'Drugs or Alcohol Present' Columns"
   ]
  },
  {
   "cell_type": "code",
   "execution_count": 30,
   "metadata": {},
   "outputs": [],
   "source": [
    "df.dropna(subset=['Age', 'Drugs or Alcohol Present'],inplace=True)"
   ]
  },
  {
   "cell_type": "code",
   "execution_count": 31,
   "metadata": {},
   "outputs": [],
   "source": [
    "df[ 'Age' ] = df[ 'Age' ].astype(int)"
   ]
  },
  {
   "cell_type": "code",
   "execution_count": 32,
   "metadata": {},
   "outputs": [
    {
     "data": {
      "text/html": [
       "<div>\n",
       "<style scoped>\n",
       "    .dataframe tbody tr th:only-of-type {\n",
       "        vertical-align: middle;\n",
       "    }\n",
       "\n",
       "    .dataframe tbody tr th {\n",
       "        vertical-align: top;\n",
       "    }\n",
       "\n",
       "    .dataframe thead th {\n",
       "        text-align: right;\n",
       "    }\n",
       "</style>\n",
       "<table border=\"1\" class=\"dataframe\">\n",
       "  <thead>\n",
       "    <tr style=\"text-align: right;\">\n",
       "      <th></th>\n",
       "      <th>Incident Id</th>\n",
       "      <th>Primary Charge</th>\n",
       "      <th>Street</th>\n",
       "      <th>City</th>\n",
       "      <th>Zipcode</th>\n",
       "      <th>Age</th>\n",
       "      <th>Race</th>\n",
       "      <th>Gender</th>\n",
       "      <th>Ethnicity</th>\n",
       "      <th>Type of Arrest</th>\n",
       "      <th>Drugs or Alcohol Present</th>\n",
       "      <th>Weapon Present</th>\n",
       "      <th>Disposition</th>\n",
       "      <th>Latitude</th>\n",
       "      <th>Longitude</th>\n",
       "      <th>Date and Time of Arrest</th>\n",
       "    </tr>\n",
       "  </thead>\n",
       "  <tbody>\n",
       "    <tr>\n",
       "      <td>0</td>\n",
       "      <td>40515</td>\n",
       "      <td>ASSAULT-SIMPLE</td>\n",
       "      <td>117 OLD DURHAM RD</td>\n",
       "      <td>CHAPEL HILL</td>\n",
       "      <td>27517.0</td>\n",
       "      <td>25</td>\n",
       "      <td>W</td>\n",
       "      <td>F</td>\n",
       "      <td>N</td>\n",
       "      <td>ON VIEW</td>\n",
       "      <td>Y</td>\n",
       "      <td>UNARMED</td>\n",
       "      <td>CLEARED BY ARREST</td>\n",
       "      <td>35.944241</td>\n",
       "      <td>-79.011741</td>\n",
       "      <td>2019-08-26 22:17:00</td>\n",
       "    </tr>\n",
       "    <tr>\n",
       "      <td>1</td>\n",
       "      <td>40498</td>\n",
       "      <td>FAIL TO APPEAR/COMPL</td>\n",
       "      <td>214 W ROSEMARY ST</td>\n",
       "      <td>CHAPEL HILL</td>\n",
       "      <td>27516.0</td>\n",
       "      <td>27</td>\n",
       "      <td>B</td>\n",
       "      <td>M</td>\n",
       "      <td>N</td>\n",
       "      <td>TAKEN INTO CUSTODY (WARRANT/LP)</td>\n",
       "      <td>N</td>\n",
       "      <td>UNARMED</td>\n",
       "      <td>CLEARED BY ARREST</td>\n",
       "      <td>35.913342</td>\n",
       "      <td>-79.058294</td>\n",
       "      <td>2019-08-26 08:51:00</td>\n",
       "    </tr>\n",
       "    <tr>\n",
       "      <td>2</td>\n",
       "      <td>40496</td>\n",
       "      <td>PUBLIC URINATION</td>\n",
       "      <td>107 EPHESUS CHURCH RD/LEGION RD</td>\n",
       "      <td>CHAPEL HILL</td>\n",
       "      <td>27517.0</td>\n",
       "      <td>57</td>\n",
       "      <td>B</td>\n",
       "      <td>M</td>\n",
       "      <td>N</td>\n",
       "      <td>SUMMONED/CITED</td>\n",
       "      <td>Y</td>\n",
       "      <td>UNARMED</td>\n",
       "      <td>CLEARED BY ARREST</td>\n",
       "      <td>35.935056</td>\n",
       "      <td>-79.021940</td>\n",
       "      <td>2019-08-26 20:15:00</td>\n",
       "    </tr>\n",
       "    <tr>\n",
       "      <td>3</td>\n",
       "      <td>40497</td>\n",
       "      <td>AFFRAY/ASSAULT &amp; BATTERY</td>\n",
       "      <td>117 OLD DURHAM RD</td>\n",
       "      <td>CHAPEL HILL</td>\n",
       "      <td>27517.0</td>\n",
       "      <td>55</td>\n",
       "      <td>B</td>\n",
       "      <td>M</td>\n",
       "      <td>N</td>\n",
       "      <td>ON VIEW</td>\n",
       "      <td>Y</td>\n",
       "      <td>UNARMED</td>\n",
       "      <td>CLEARED BY ARREST</td>\n",
       "      <td>35.944241</td>\n",
       "      <td>-79.011741</td>\n",
       "      <td>2019-08-26 22:17:00</td>\n",
       "    </tr>\n",
       "    <tr>\n",
       "      <td>4</td>\n",
       "      <td>40495</td>\n",
       "      <td>ASSAULT-SIMPLE</td>\n",
       "      <td>233 MCCAULEY STREET</td>\n",
       "      <td>CHAPEL HILL</td>\n",
       "      <td>27514.0</td>\n",
       "      <td>21</td>\n",
       "      <td>W</td>\n",
       "      <td>F</td>\n",
       "      <td>N</td>\n",
       "      <td>SUMMONED/CITED</td>\n",
       "      <td>N</td>\n",
       "      <td>UNARMED</td>\n",
       "      <td>CLEARED BY ARREST</td>\n",
       "      <td>35.907198</td>\n",
       "      <td>-79.057234</td>\n",
       "      <td>2019-08-26 07:27:00</td>\n",
       "    </tr>\n",
       "  </tbody>\n",
       "</table>\n",
       "</div>"
      ],
      "text/plain": [
       "   Incident Id            Primary Charge                           Street  \\\n",
       "0        40515            ASSAULT-SIMPLE                117 OLD DURHAM RD   \n",
       "1        40498      FAIL TO APPEAR/COMPL                214 W ROSEMARY ST   \n",
       "2        40496          PUBLIC URINATION  107 EPHESUS CHURCH RD/LEGION RD   \n",
       "3        40497  AFFRAY/ASSAULT & BATTERY                117 OLD DURHAM RD   \n",
       "4        40495            ASSAULT-SIMPLE              233 MCCAULEY STREET   \n",
       "\n",
       "          City  Zipcode  Age Race Gender Ethnicity  \\\n",
       "0  CHAPEL HILL  27517.0   25    W      F         N   \n",
       "1  CHAPEL HILL  27516.0   27    B      M         N   \n",
       "2  CHAPEL HILL  27517.0   57    B      M         N   \n",
       "3  CHAPEL HILL  27517.0   55    B      M         N   \n",
       "4  CHAPEL HILL  27514.0   21    W      F         N   \n",
       "\n",
       "                    Type of Arrest Drugs or Alcohol Present Weapon Present  \\\n",
       "0                          ON VIEW                        Y        UNARMED   \n",
       "1  TAKEN INTO CUSTODY (WARRANT/LP)                        N        UNARMED   \n",
       "2                   SUMMONED/CITED                        Y        UNARMED   \n",
       "3                          ON VIEW                        Y        UNARMED   \n",
       "4                   SUMMONED/CITED                        N        UNARMED   \n",
       "\n",
       "         Disposition   Latitude  Longitude Date and Time of Arrest  \n",
       "0  CLEARED BY ARREST  35.944241 -79.011741     2019-08-26 22:17:00  \n",
       "1  CLEARED BY ARREST  35.913342 -79.058294     2019-08-26 08:51:00  \n",
       "2  CLEARED BY ARREST  35.935056 -79.021940     2019-08-26 20:15:00  \n",
       "3  CLEARED BY ARREST  35.944241 -79.011741     2019-08-26 22:17:00  \n",
       "4  CLEARED BY ARREST  35.907198 -79.057234     2019-08-26 07:27:00  "
      ]
     },
     "execution_count": 32,
     "metadata": {},
     "output_type": "execute_result"
    }
   ],
   "source": [
    "df.head()"
   ]
  },
  {
   "cell_type": "code",
   "execution_count": 33,
   "metadata": {},
   "outputs": [
    {
     "data": {
      "text/plain": [
       "Incident Id                    0\n",
       "Primary Charge                 0\n",
       "Street                         9\n",
       "City                          44\n",
       "Zipcode                      797\n",
       "Age                            0\n",
       "Race                           1\n",
       "Gender                         1\n",
       "Ethnicity                   3841\n",
       "Type of Arrest                 1\n",
       "Drugs or Alcohol Present       0\n",
       "Weapon Present                84\n",
       "Disposition                    8\n",
       "Latitude                       0\n",
       "Longitude                      0\n",
       "Date and Time of Arrest        0\n",
       "dtype: int64"
      ]
     },
     "execution_count": 33,
     "metadata": {},
     "output_type": "execute_result"
    }
   ],
   "source": [
    "df.isna().sum()"
   ]
  },
  {
   "cell_type": "code",
   "execution_count": 34,
   "metadata": {},
   "outputs": [
    {
     "data": {
      "text/html": [
       "<div>\n",
       "<style scoped>\n",
       "    .dataframe tbody tr th:only-of-type {\n",
       "        vertical-align: middle;\n",
       "    }\n",
       "\n",
       "    .dataframe tbody tr th {\n",
       "        vertical-align: top;\n",
       "    }\n",
       "\n",
       "    .dataframe thead th {\n",
       "        text-align: right;\n",
       "    }\n",
       "</style>\n",
       "<table border=\"1\" class=\"dataframe\">\n",
       "  <thead>\n",
       "    <tr style=\"text-align: right;\">\n",
       "      <th></th>\n",
       "      <th>Incident Id</th>\n",
       "      <th>Primary Charge</th>\n",
       "      <th>Street</th>\n",
       "      <th>City</th>\n",
       "      <th>Zipcode</th>\n",
       "      <th>Age</th>\n",
       "      <th>Race</th>\n",
       "      <th>Gender</th>\n",
       "      <th>Ethnicity</th>\n",
       "      <th>Type of Arrest</th>\n",
       "      <th>Drugs or Alcohol Present</th>\n",
       "      <th>Weapon Present</th>\n",
       "      <th>Disposition</th>\n",
       "      <th>Latitude</th>\n",
       "      <th>Longitude</th>\n",
       "      <th>Date and Time of Arrest</th>\n",
       "    </tr>\n",
       "  </thead>\n",
       "  <tbody>\n",
       "    <tr>\n",
       "      <td>12419</td>\n",
       "      <td>27962</td>\n",
       "      <td>POSS FRAUDULENT ID</td>\n",
       "      <td>137 E ROSEMARY ST</td>\n",
       "      <td>CHAPEL HILL</td>\n",
       "      <td>27514.0</td>\n",
       "      <td>18</td>\n",
       "      <td>NaN</td>\n",
       "      <td>NaN</td>\n",
       "      <td>NaN</td>\n",
       "      <td>ON VIEW</td>\n",
       "      <td>Y</td>\n",
       "      <td>UNARMED</td>\n",
       "      <td>CLEARED BY ARREST</td>\n",
       "      <td>35.914697</td>\n",
       "      <td>-79.05484</td>\n",
       "      <td>2012-01-13 01:17:00</td>\n",
       "    </tr>\n",
       "  </tbody>\n",
       "</table>\n",
       "</div>"
      ],
      "text/plain": [
       "       Incident Id      Primary Charge             Street         City  \\\n",
       "12419        27962  POSS FRAUDULENT ID  137 E ROSEMARY ST  CHAPEL HILL   \n",
       "\n",
       "       Zipcode  Age Race Gender Ethnicity Type of Arrest  \\\n",
       "12419  27514.0   18  NaN    NaN       NaN        ON VIEW   \n",
       "\n",
       "      Drugs or Alcohol Present Weapon Present        Disposition   Latitude  \\\n",
       "12419                        Y        UNARMED  CLEARED BY ARREST  35.914697   \n",
       "\n",
       "       Longitude Date and Time of Arrest  \n",
       "12419  -79.05484     2012-01-13 01:17:00  "
      ]
     },
     "execution_count": 34,
     "metadata": {},
     "output_type": "execute_result"
    }
   ],
   "source": [
    "df[df.Gender.isna()]"
   ]
  },
  {
   "cell_type": "code",
   "execution_count": 35,
   "metadata": {},
   "outputs": [
    {
     "data": {
      "text/html": [
       "<div>\n",
       "<style scoped>\n",
       "    .dataframe tbody tr th:only-of-type {\n",
       "        vertical-align: middle;\n",
       "    }\n",
       "\n",
       "    .dataframe tbody tr th {\n",
       "        vertical-align: top;\n",
       "    }\n",
       "\n",
       "    .dataframe thead th {\n",
       "        text-align: right;\n",
       "    }\n",
       "</style>\n",
       "<table border=\"1\" class=\"dataframe\">\n",
       "  <thead>\n",
       "    <tr style=\"text-align: right;\">\n",
       "      <th></th>\n",
       "      <th>Incident Id</th>\n",
       "      <th>Zipcode</th>\n",
       "      <th>Age</th>\n",
       "      <th>Latitude</th>\n",
       "      <th>Longitude</th>\n",
       "    </tr>\n",
       "  </thead>\n",
       "  <tbody>\n",
       "    <tr>\n",
       "      <td>count</td>\n",
       "      <td>14982.000000</td>\n",
       "      <td>14185.000000</td>\n",
       "      <td>14982.000000</td>\n",
       "      <td>14982.000000</td>\n",
       "      <td>14982.000000</td>\n",
       "    </tr>\n",
       "    <tr>\n",
       "      <td>mean</td>\n",
       "      <td>32470.523228</td>\n",
       "      <td>27577.457455</td>\n",
       "      <td>34.523361</td>\n",
       "      <td>35.910172</td>\n",
       "      <td>-79.096226</td>\n",
       "    </tr>\n",
       "    <tr>\n",
       "      <td>std</td>\n",
       "      <td>4720.359411</td>\n",
       "      <td>3974.107085</td>\n",
       "      <td>13.862401</td>\n",
       "      <td>0.853551</td>\n",
       "      <td>1.685364</td>\n",
       "    </tr>\n",
       "    <tr>\n",
       "      <td>min</td>\n",
       "      <td>24065.000000</td>\n",
       "      <td>2716.000000</td>\n",
       "      <td>18.000000</td>\n",
       "      <td>-14.323897</td>\n",
       "      <td>-170.768523</td>\n",
       "    </tr>\n",
       "    <tr>\n",
       "      <td>25%</td>\n",
       "      <td>28437.250000</td>\n",
       "      <td>27514.000000</td>\n",
       "      <td>22.000000</td>\n",
       "      <td>35.912862</td>\n",
       "      <td>-79.058924</td>\n",
       "    </tr>\n",
       "    <tr>\n",
       "      <td>50%</td>\n",
       "      <td>32541.500000</td>\n",
       "      <td>27514.000000</td>\n",
       "      <td>30.000000</td>\n",
       "      <td>35.914838</td>\n",
       "      <td>-79.055026</td>\n",
       "    </tr>\n",
       "    <tr>\n",
       "      <td>75%</td>\n",
       "      <td>36552.750000</td>\n",
       "      <td>27516.000000</td>\n",
       "      <td>46.000000</td>\n",
       "      <td>35.929737</td>\n",
       "      <td>-79.046075</td>\n",
       "    </tr>\n",
       "    <tr>\n",
       "      <td>max</td>\n",
       "      <td>40517.000000</td>\n",
       "      <td>277514.000000</td>\n",
       "      <td>87.000000</td>\n",
       "      <td>45.924300</td>\n",
       "      <td>-73.652630</td>\n",
       "    </tr>\n",
       "  </tbody>\n",
       "</table>\n",
       "</div>"
      ],
      "text/plain": [
       "        Incident Id        Zipcode           Age      Latitude     Longitude\n",
       "count  14982.000000   14185.000000  14982.000000  14982.000000  14982.000000\n",
       "mean   32470.523228   27577.457455     34.523361     35.910172    -79.096226\n",
       "std     4720.359411    3974.107085     13.862401      0.853551      1.685364\n",
       "min    24065.000000    2716.000000     18.000000    -14.323897   -170.768523\n",
       "25%    28437.250000   27514.000000     22.000000     35.912862    -79.058924\n",
       "50%    32541.500000   27514.000000     30.000000     35.914838    -79.055026\n",
       "75%    36552.750000   27516.000000     46.000000     35.929737    -79.046075\n",
       "max    40517.000000  277514.000000     87.000000     45.924300    -73.652630"
      ]
     },
     "execution_count": 35,
     "metadata": {},
     "output_type": "execute_result"
    }
   ],
   "source": [
    "df.describe()"
   ]
  },
  {
   "cell_type": "markdown",
   "metadata": {},
   "source": [
    "Age is within range of 18 to 87.\n",
    "\n",
    "ZipCode seems to be incorrect."
   ]
  },
  {
   "cell_type": "code",
   "execution_count": 36,
   "metadata": {},
   "outputs": [
    {
     "data": {
      "text/html": [
       "<div>\n",
       "<style scoped>\n",
       "    .dataframe tbody tr th:only-of-type {\n",
       "        vertical-align: middle;\n",
       "    }\n",
       "\n",
       "    .dataframe tbody tr th {\n",
       "        vertical-align: top;\n",
       "    }\n",
       "\n",
       "    .dataframe thead th {\n",
       "        text-align: right;\n",
       "    }\n",
       "</style>\n",
       "<table border=\"1\" class=\"dataframe\">\n",
       "  <thead>\n",
       "    <tr style=\"text-align: right;\">\n",
       "      <th></th>\n",
       "      <th>Incident Id</th>\n",
       "      <th>Primary Charge</th>\n",
       "      <th>Street</th>\n",
       "      <th>City</th>\n",
       "      <th>Zipcode</th>\n",
       "      <th>Age</th>\n",
       "      <th>Race</th>\n",
       "      <th>Gender</th>\n",
       "      <th>Ethnicity</th>\n",
       "      <th>Type of Arrest</th>\n",
       "      <th>Drugs or Alcohol Present</th>\n",
       "      <th>Weapon Present</th>\n",
       "      <th>Disposition</th>\n",
       "      <th>Latitude</th>\n",
       "      <th>Longitude</th>\n",
       "      <th>Date and Time of Arrest</th>\n",
       "    </tr>\n",
       "  </thead>\n",
       "  <tbody>\n",
       "    <tr>\n",
       "      <td>513</td>\n",
       "      <td>39988</td>\n",
       "      <td>DAMAGE-REAL PROPERTY</td>\n",
       "      <td>ISLEY ST//N COLUMBIA ST</td>\n",
       "      <td>CHAPEL HILL</td>\n",
       "      <td>2716.0</td>\n",
       "      <td>39</td>\n",
       "      <td>W</td>\n",
       "      <td>M</td>\n",
       "      <td>N</td>\n",
       "      <td>SUMMONED/CITED</td>\n",
       "      <td>Y</td>\n",
       "      <td>UNARMED</td>\n",
       "      <td>CLEARED BY ARREST</td>\n",
       "      <td>35.918460</td>\n",
       "      <td>-79.059042</td>\n",
       "      <td>2019-04-14 03:57:00</td>\n",
       "    </tr>\n",
       "    <tr>\n",
       "      <td>12657</td>\n",
       "      <td>27721</td>\n",
       "      <td>HARASSING PHONE CALLS</td>\n",
       "      <td>BANKS DR AT WEAVER DAIRY RD</td>\n",
       "      <td>CHAPEL HILL</td>\n",
       "      <td>21514.0</td>\n",
       "      <td>26</td>\n",
       "      <td>W</td>\n",
       "      <td>M</td>\n",
       "      <td>H</td>\n",
       "      <td>TAKEN INTO CUSTODY (WARRANT/LP)</td>\n",
       "      <td>N</td>\n",
       "      <td>UNARMED</td>\n",
       "      <td>CLEARED BY ARREST</td>\n",
       "      <td>35.963955</td>\n",
       "      <td>-79.055680</td>\n",
       "      <td>2011-11-18 21:32:00</td>\n",
       "    </tr>\n",
       "    <tr>\n",
       "      <td>5132</td>\n",
       "      <td>35327</td>\n",
       "      <td>ASSAULT BY STRANGULATION</td>\n",
       "      <td>10520 JUDICIAL DR</td>\n",
       "      <td>FAIRFAX  VA</td>\n",
       "      <td>22030.0</td>\n",
       "      <td>22</td>\n",
       "      <td>W</td>\n",
       "      <td>M</td>\n",
       "      <td>N</td>\n",
       "      <td>TAKEN INTO CUSTODY (WARRANT/LP)</td>\n",
       "      <td>N</td>\n",
       "      <td>UNARMED</td>\n",
       "      <td>CLEARED BY ARREST</td>\n",
       "      <td>38.843619</td>\n",
       "      <td>-77.311383</td>\n",
       "      <td>2016-03-13 13:00:00</td>\n",
       "    </tr>\n",
       "    <tr>\n",
       "      <td>11214</td>\n",
       "      <td>29197</td>\n",
       "      <td>OPEN CONTAINER</td>\n",
       "      <td>ISLEY ST AND N COLUMBIA ST</td>\n",
       "      <td>CHAPEL HILL</td>\n",
       "      <td>24514.0</td>\n",
       "      <td>27</td>\n",
       "      <td>W</td>\n",
       "      <td>M</td>\n",
       "      <td>N</td>\n",
       "      <td>SUMMONED/CITED</td>\n",
       "      <td>Y</td>\n",
       "      <td>UNARMED</td>\n",
       "      <td>CLEARED BY ARREST</td>\n",
       "      <td>35.918460</td>\n",
       "      <td>-79.059042</td>\n",
       "      <td>2012-09-22 15:34:00</td>\n",
       "    </tr>\n",
       "    <tr>\n",
       "      <td>1398</td>\n",
       "      <td>39089</td>\n",
       "      <td>ASSAULT W DEADLY WEAPON</td>\n",
       "      <td>1116 15 501 S</td>\n",
       "      <td>CHAPEL HILL</td>\n",
       "      <td>25517.0</td>\n",
       "      <td>74</td>\n",
       "      <td>B</td>\n",
       "      <td>M</td>\n",
       "      <td>N</td>\n",
       "      <td>ON VIEW</td>\n",
       "      <td>N</td>\n",
       "      <td>UNARMED</td>\n",
       "      <td>CLEARED BY ARREST</td>\n",
       "      <td>35.880246</td>\n",
       "      <td>-79.062977</td>\n",
       "      <td>2018-08-09 05:08:00</td>\n",
       "    </tr>\n",
       "  </tbody>\n",
       "</table>\n",
       "</div>"
      ],
      "text/plain": [
       "       Incident Id            Primary Charge                       Street  \\\n",
       "513          39988      DAMAGE-REAL PROPERTY      ISLEY ST//N COLUMBIA ST   \n",
       "12657        27721     HARASSING PHONE CALLS  BANKS DR AT WEAVER DAIRY RD   \n",
       "5132         35327  ASSAULT BY STRANGULATION            10520 JUDICIAL DR   \n",
       "11214        29197            OPEN CONTAINER   ISLEY ST AND N COLUMBIA ST   \n",
       "1398         39089   ASSAULT W DEADLY WEAPON                1116 15 501 S   \n",
       "\n",
       "              City  Zipcode  Age Race Gender Ethnicity  \\\n",
       "513    CHAPEL HILL   2716.0   39    W      M         N   \n",
       "12657  CHAPEL HILL  21514.0   26    W      M         H   \n",
       "5132   FAIRFAX  VA  22030.0   22    W      M         N   \n",
       "11214  CHAPEL HILL  24514.0   27    W      M         N   \n",
       "1398   CHAPEL HILL  25517.0   74    B      M         N   \n",
       "\n",
       "                        Type of Arrest Drugs or Alcohol Present  \\\n",
       "513                     SUMMONED/CITED                        Y   \n",
       "12657  TAKEN INTO CUSTODY (WARRANT/LP)                        N   \n",
       "5132   TAKEN INTO CUSTODY (WARRANT/LP)                        N   \n",
       "11214                   SUMMONED/CITED                        Y   \n",
       "1398                           ON VIEW                        N   \n",
       "\n",
       "      Weapon Present        Disposition   Latitude  Longitude  \\\n",
       "513          UNARMED  CLEARED BY ARREST  35.918460 -79.059042   \n",
       "12657        UNARMED  CLEARED BY ARREST  35.963955 -79.055680   \n",
       "5132         UNARMED  CLEARED BY ARREST  38.843619 -77.311383   \n",
       "11214        UNARMED  CLEARED BY ARREST  35.918460 -79.059042   \n",
       "1398         UNARMED  CLEARED BY ARREST  35.880246 -79.062977   \n",
       "\n",
       "      Date and Time of Arrest  \n",
       "513       2019-04-14 03:57:00  \n",
       "12657     2011-11-18 21:32:00  \n",
       "5132      2016-03-13 13:00:00  \n",
       "11214     2012-09-22 15:34:00  \n",
       "1398      2018-08-09 05:08:00  "
      ]
     },
     "execution_count": 36,
     "metadata": {},
     "output_type": "execute_result"
    }
   ],
   "source": [
    "sdf = df.dropna( subset = ['Zipcode'] )\n",
    "sdf = sdf.sort_values( by = 'Zipcode' )\n",
    "sdf.head()"
   ]
  },
  {
   "cell_type": "code",
   "execution_count": 37,
   "metadata": {},
   "outputs": [
    {
     "data": {
      "text/html": [
       "<div>\n",
       "<style scoped>\n",
       "    .dataframe tbody tr th:only-of-type {\n",
       "        vertical-align: middle;\n",
       "    }\n",
       "\n",
       "    .dataframe tbody tr th {\n",
       "        vertical-align: top;\n",
       "    }\n",
       "\n",
       "    .dataframe thead th {\n",
       "        text-align: right;\n",
       "    }\n",
       "</style>\n",
       "<table border=\"1\" class=\"dataframe\">\n",
       "  <thead>\n",
       "    <tr style=\"text-align: right;\">\n",
       "      <th></th>\n",
       "      <th>Incident Id</th>\n",
       "      <th>Primary Charge</th>\n",
       "      <th>Street</th>\n",
       "      <th>City</th>\n",
       "      <th>Zipcode</th>\n",
       "      <th>Age</th>\n",
       "      <th>Race</th>\n",
       "      <th>Gender</th>\n",
       "      <th>Ethnicity</th>\n",
       "      <th>Type of Arrest</th>\n",
       "      <th>Drugs or Alcohol Present</th>\n",
       "      <th>Weapon Present</th>\n",
       "      <th>Disposition</th>\n",
       "      <th>Latitude</th>\n",
       "      <th>Longitude</th>\n",
       "      <th>Date and Time of Arrest</th>\n",
       "    </tr>\n",
       "  </thead>\n",
       "  <tbody>\n",
       "    <tr>\n",
       "      <td>3989</td>\n",
       "      <td>36483</td>\n",
       "      <td>RAPE 1ST DEGREE</td>\n",
       "      <td>105 N FLORECE ST</td>\n",
       "      <td>MAXTON</td>\n",
       "      <td>28364.0</td>\n",
       "      <td>37</td>\n",
       "      <td>B</td>\n",
       "      <td>M</td>\n",
       "      <td>N</td>\n",
       "      <td>ON VIEW</td>\n",
       "      <td>N</td>\n",
       "      <td>UNARMED</td>\n",
       "      <td>CLEARED BY ARREST</td>\n",
       "      <td>34.736593</td>\n",
       "      <td>-79.351060</td>\n",
       "      <td>2016-10-31 12:20:00</td>\n",
       "    </tr>\n",
       "    <tr>\n",
       "      <td>3222</td>\n",
       "      <td>37254</td>\n",
       "      <td>PUBLIC CONSUMPTION</td>\n",
       "      <td>1800 MARTIN LUTHER KING JR BLVD</td>\n",
       "      <td>CHAPEL HILL</td>\n",
       "      <td>227514.0</td>\n",
       "      <td>56</td>\n",
       "      <td>B</td>\n",
       "      <td>M</td>\n",
       "      <td>N</td>\n",
       "      <td>SUMMONED/CITED</td>\n",
       "      <td>Y</td>\n",
       "      <td>UNARMED</td>\n",
       "      <td>CLEARED BY ARREST</td>\n",
       "      <td>35.968230</td>\n",
       "      <td>-79.058646</td>\n",
       "      <td>2017-05-12 14:55:00</td>\n",
       "    </tr>\n",
       "    <tr>\n",
       "      <td>6884</td>\n",
       "      <td>33576</td>\n",
       "      <td>FRAUD-OBT PROPERTY</td>\n",
       "      <td>110 E MAIN STREET</td>\n",
       "      <td>CARRBORO</td>\n",
       "      <td>271510.0</td>\n",
       "      <td>47</td>\n",
       "      <td>B</td>\n",
       "      <td>M</td>\n",
       "      <td>N</td>\n",
       "      <td>TAKEN INTO CUSTODY (WARRANT/LP)</td>\n",
       "      <td>N</td>\n",
       "      <td>UNARMED</td>\n",
       "      <td>CLEARED BY ARREST</td>\n",
       "      <td>35.910439</td>\n",
       "      <td>-79.070957</td>\n",
       "      <td>2015-04-08 14:35:00</td>\n",
       "    </tr>\n",
       "    <tr>\n",
       "      <td>10684</td>\n",
       "      <td>29733</td>\n",
       "      <td>FAIL TO APPEAR/COMPL</td>\n",
       "      <td>NC 86/TIMBER HOLLOW CT</td>\n",
       "      <td>CHAPEL HILL</td>\n",
       "      <td>275144.0</td>\n",
       "      <td>28</td>\n",
       "      <td>W</td>\n",
       "      <td>M</td>\n",
       "      <td>NaN</td>\n",
       "      <td>TAKEN INTO CUSTODY (WARRANT/LP)</td>\n",
       "      <td>N</td>\n",
       "      <td>UNARMED</td>\n",
       "      <td>ARREST/NO INVESTIGATION</td>\n",
       "      <td>35.941572</td>\n",
       "      <td>-79.057431</td>\n",
       "      <td>2013-02-01 21:28:00</td>\n",
       "    </tr>\n",
       "    <tr>\n",
       "      <td>3849</td>\n",
       "      <td>36625</td>\n",
       "      <td>IMPAIRED DRIVING DWI</td>\n",
       "      <td>FORDHAM BLVD/ELLIOTT RD</td>\n",
       "      <td>CHAPEL HILL</td>\n",
       "      <td>277514.0</td>\n",
       "      <td>25</td>\n",
       "      <td>B</td>\n",
       "      <td>F</td>\n",
       "      <td>NaN</td>\n",
       "      <td>ON VIEW</td>\n",
       "      <td>Y</td>\n",
       "      <td>UNARMED</td>\n",
       "      <td>CLEARED BY ARREST</td>\n",
       "      <td>35.932473</td>\n",
       "      <td>-79.024010</td>\n",
       "      <td>2016-12-09 16:50:00</td>\n",
       "    </tr>\n",
       "  </tbody>\n",
       "</table>\n",
       "</div>"
      ],
      "text/plain": [
       "       Incident Id        Primary Charge                           Street  \\\n",
       "3989         36483       RAPE 1ST DEGREE                 105 N FLORECE ST   \n",
       "3222         37254    PUBLIC CONSUMPTION  1800 MARTIN LUTHER KING JR BLVD   \n",
       "6884         33576    FRAUD-OBT PROPERTY                110 E MAIN STREET   \n",
       "10684        29733  FAIL TO APPEAR/COMPL           NC 86/TIMBER HOLLOW CT   \n",
       "3849         36625  IMPAIRED DRIVING DWI          FORDHAM BLVD/ELLIOTT RD   \n",
       "\n",
       "              City   Zipcode  Age Race Gender Ethnicity  \\\n",
       "3989        MAXTON   28364.0   37    B      M         N   \n",
       "3222   CHAPEL HILL  227514.0   56    B      M         N   \n",
       "6884      CARRBORO  271510.0   47    B      M         N   \n",
       "10684  CHAPEL HILL  275144.0   28    W      M       NaN   \n",
       "3849   CHAPEL HILL  277514.0   25    B      F       NaN   \n",
       "\n",
       "                        Type of Arrest Drugs or Alcohol Present  \\\n",
       "3989                           ON VIEW                        N   \n",
       "3222                    SUMMONED/CITED                        Y   \n",
       "6884   TAKEN INTO CUSTODY (WARRANT/LP)                        N   \n",
       "10684  TAKEN INTO CUSTODY (WARRANT/LP)                        N   \n",
       "3849                           ON VIEW                        Y   \n",
       "\n",
       "      Weapon Present              Disposition   Latitude  Longitude  \\\n",
       "3989         UNARMED        CLEARED BY ARREST  34.736593 -79.351060   \n",
       "3222         UNARMED        CLEARED BY ARREST  35.968230 -79.058646   \n",
       "6884         UNARMED        CLEARED BY ARREST  35.910439 -79.070957   \n",
       "10684        UNARMED  ARREST/NO INVESTIGATION  35.941572 -79.057431   \n",
       "3849         UNARMED        CLEARED BY ARREST  35.932473 -79.024010   \n",
       "\n",
       "      Date and Time of Arrest  \n",
       "3989      2016-10-31 12:20:00  \n",
       "3222      2017-05-12 14:55:00  \n",
       "6884      2015-04-08 14:35:00  \n",
       "10684     2013-02-01 21:28:00  \n",
       "3849      2016-12-09 16:50:00  "
      ]
     },
     "execution_count": 37,
     "metadata": {},
     "output_type": "execute_result"
    }
   ],
   "source": [
    "sdf.tail()"
   ]
  },
  {
   "cell_type": "code",
   "execution_count": 38,
   "metadata": {},
   "outputs": [],
   "source": [
    "correctzip={ 2716:27516 , 227514:27514 , 275144:27514 , 277514:27514 , 271510:27510 } #Replacing incorrect zipcodes with correct values from google"
   ]
  },
  {
   "cell_type": "code",
   "execution_count": 39,
   "metadata": {},
   "outputs": [],
   "source": [
    "df[ 'Zipcode' ]=df[ 'Zipcode' ].replace(correctzip)"
   ]
  },
  {
   "cell_type": "code",
   "execution_count": 40,
   "metadata": {},
   "outputs": [],
   "source": [
    "df[ 'Zipcode' ] = df[ 'Zipcode' ].astype('Int32')"
   ]
  },
  {
   "cell_type": "code",
   "execution_count": 41,
   "metadata": {},
   "outputs": [
    {
     "data": {
      "text/html": [
       "<div>\n",
       "<style scoped>\n",
       "    .dataframe tbody tr th:only-of-type {\n",
       "        vertical-align: middle;\n",
       "    }\n",
       "\n",
       "    .dataframe tbody tr th {\n",
       "        vertical-align: top;\n",
       "    }\n",
       "\n",
       "    .dataframe thead th {\n",
       "        text-align: right;\n",
       "    }\n",
       "</style>\n",
       "<table border=\"1\" class=\"dataframe\">\n",
       "  <thead>\n",
       "    <tr style=\"text-align: right;\">\n",
       "      <th></th>\n",
       "      <th>Primary Charge</th>\n",
       "      <th>Street</th>\n",
       "      <th>City</th>\n",
       "    </tr>\n",
       "  </thead>\n",
       "  <tbody>\n",
       "    <tr>\n",
       "      <td>count</td>\n",
       "      <td>14982</td>\n",
       "      <td>14973</td>\n",
       "      <td>14938</td>\n",
       "    </tr>\n",
       "    <tr>\n",
       "      <td>unique</td>\n",
       "      <td>1127</td>\n",
       "      <td>5508</td>\n",
       "      <td>34</td>\n",
       "    </tr>\n",
       "    <tr>\n",
       "      <td>top</td>\n",
       "      <td>FAIL TO APPEAR/COMPL</td>\n",
       "      <td>828 MARTIN LUTHER KING JR BLVD</td>\n",
       "      <td>CHAPEL HILL</td>\n",
       "    </tr>\n",
       "    <tr>\n",
       "      <td>freq</td>\n",
       "      <td>1631</td>\n",
       "      <td>500</td>\n",
       "      <td>14590</td>\n",
       "    </tr>\n",
       "  </tbody>\n",
       "</table>\n",
       "</div>"
      ],
      "text/plain": [
       "              Primary Charge                          Street         City\n",
       "count                  14982                           14973        14938\n",
       "unique                  1127                            5508           34\n",
       "top     FAIL TO APPEAR/COMPL  828 MARTIN LUTHER KING JR BLVD  CHAPEL HILL\n",
       "freq                    1631                             500        14590"
      ]
     },
     "execution_count": 41,
     "metadata": {},
     "output_type": "execute_result"
    }
   ],
   "source": [
    "df.describe(include='object')"
   ]
  },
  {
   "cell_type": "code",
   "execution_count": 42,
   "metadata": {},
   "outputs": [
    {
     "data": {
      "text/plain": [
       "Incident Id                          int64\n",
       "Primary Charge                      object\n",
       "Street                              object\n",
       "City                                object\n",
       "Zipcode                              Int32\n",
       "Age                                  int32\n",
       "Race                              category\n",
       "Gender                            category\n",
       "Ethnicity                         category\n",
       "Type of Arrest                    category\n",
       "Drugs or Alcohol Present          category\n",
       "Weapon Present                    category\n",
       "Disposition                       category\n",
       "Latitude                           float64\n",
       "Longitude                          float64\n",
       "Date and Time of Arrest     datetime64[ns]\n",
       "dtype: object"
      ]
     },
     "execution_count": 42,
     "metadata": {},
     "output_type": "execute_result"
    }
   ],
   "source": [
    "df.dtypes "
   ]
  },
  {
   "cell_type": "code",
   "execution_count": 43,
   "metadata": {},
   "outputs": [
    {
     "data": {
      "text/plain": [
       "Incident Id                    0\n",
       "Primary Charge                 0\n",
       "Street                         9\n",
       "City                          44\n",
       "Zipcode                      797\n",
       "Age                            0\n",
       "Race                           1\n",
       "Gender                         1\n",
       "Ethnicity                   3841\n",
       "Type of Arrest                 1\n",
       "Drugs or Alcohol Present       0\n",
       "Weapon Present                84\n",
       "Disposition                    8\n",
       "Latitude                       0\n",
       "Longitude                      0\n",
       "Date and Time of Arrest        0\n",
       "dtype: int64"
      ]
     },
     "execution_count": 43,
     "metadata": {},
     "output_type": "execute_result"
    }
   ],
   "source": [
    "df.isna().sum()"
   ]
  },
  {
   "cell_type": "markdown",
   "metadata": {},
   "source": [
    "## Hypothesis 1 : More than 50% of the Data has incidents involving  Alcohol or Drugs."
   ]
  },
  {
   "cell_type": "code",
   "execution_count": 44,
   "metadata": {},
   "outputs": [],
   "source": [
    "keys=df['Drugs or Alcohol Present'].unique().tolist()   #all unique elements from the column"
   ]
  },
  {
   "cell_type": "code",
   "execution_count": 45,
   "metadata": {},
   "outputs": [
    {
     "data": {
      "text/plain": [
       "['Y', 'N', 'U']"
      ]
     },
     "execution_count": 45,
     "metadata": {},
     "output_type": "execute_result"
    }
   ],
   "source": [
    "keys"
   ]
  },
  {
   "cell_type": "code",
   "execution_count": 46,
   "metadata": {},
   "outputs": [],
   "source": [
    "one={}  # Dictionary to store results\n",
    "\n",
    "for x in keys:    # Intialising the dictionary\n",
    "    one[x]=0\n",
    "\n",
    "all=df['Drugs or Alcohol Present'].tolist()  #all elements from the column\n",
    "\n",
    "for x in all:    #Iterating over list to count incidents\n",
    "    one[x]+=1"
   ]
  },
  {
   "cell_type": "code",
   "execution_count": 47,
   "metadata": {},
   "outputs": [
    {
     "data": {
      "text/plain": [
       "{'Y': 8781, 'N': 4572, 'U': 1629}"
      ]
     },
     "execution_count": 47,
     "metadata": {},
     "output_type": "execute_result"
    }
   ],
   "source": [
    "one"
   ]
  },
  {
   "cell_type": "code",
   "execution_count": 48,
   "metadata": {},
   "outputs": [
    {
     "data": {
      "image/png": "[encoded data removed]",
      "text/plain": [
       "<Figure size 432x288 with 1 Axes>"
      ]
     },
     "metadata": {
      "needs_background": "light"
     },
     "output_type": "display_data"
    }
   ],
   "source": [
    "plt.bar(['Yes','No','Unknown'],one.values())\n",
    "_=plt.xlabel( 'Drugs or Alcohol Present' )\n",
    "_=plt.ylabel( 'Number of Incidents' )\n",
    "_=plt.title( 'Drugs or Alcohol Incidents' )\n"
   ]
  },
  {
   "cell_type": "code",
   "execution_count": 49,
   "metadata": {},
   "outputs": [
    {
     "name": "stdout",
     "output_type": "stream",
     "text": [
      "Percentage of Incidents invloving Drugs or Alcohol =  58.610332398878654 %\n"
     ]
    }
   ],
   "source": [
    "print('Percentage of Incidents invloving Drugs or Alcohol = ',(one['Y']/df.shape[0])*100,'%')"
   ]
  },
  {
   "cell_type": "markdown",
   "metadata": {},
   "source": [
    "## Hypothesis 2 : The people in the age group of 18 to 30 are involved more in crime than people in 31 to 50 age."
   ]
  },
  {
   "cell_type": "code",
   "execution_count": 50,
   "metadata": {},
   "outputs": [
    {
     "data": {
      "text/plain": [
       "<matplotlib.axes._subplots.AxesSubplot at 0x29fd143c948>"
      ]
     },
     "execution_count": 50,
     "metadata": {},
     "output_type": "execute_result"
    },
    {
     "data": {
      "image/png": "[encoded data removed]",
      "text/plain": [
       "<Figure size 432x288 with 1 Axes>"
      ]
     },
     "metadata": {
      "needs_background": "light"
     },
     "output_type": "display_data"
    }
   ],
   "source": [
    "df.Age.hist(bins =50)"
   ]
  },
  {
   "cell_type": "code",
   "execution_count": 51,
   "metadata": {},
   "outputs": [],
   "source": [
    "allage=df['Age'].tolist()\n",
    "teen = 0\n",
    "old = 0\n",
    "for x in allage:\n",
    "        if x>=18 and x<=30 :\n",
    "            teen+=1\n",
    "        if x>30 and x<=50 :\n",
    "            old+=1"
   ]
  },
  {
   "cell_type": "code",
   "execution_count": 52,
   "metadata": {},
   "outputs": [
    {
     "data": {
      "text/plain": [
       "7648"
      ]
     },
     "execution_count": 52,
     "metadata": {},
     "output_type": "execute_result"
    }
   ],
   "source": [
    "teen"
   ]
  },
  {
   "cell_type": "code",
   "execution_count": 53,
   "metadata": {},
   "outputs": [
    {
     "data": {
      "text/plain": [
       "4731"
      ]
     },
     "execution_count": 53,
     "metadata": {},
     "output_type": "execute_result"
    }
   ],
   "source": [
    "old"
   ]
  },
  {
   "cell_type": "code",
   "execution_count": 54,
   "metadata": {},
   "outputs": [
    {
     "data": {
      "image/png": "[encoded data removed]",
      "text/plain": [
       "<Figure size 432x288 with 1 Axes>"
      ]
     },
     "metadata": {
      "needs_background": "light"
     },
     "output_type": "display_data"
    }
   ],
   "source": [
    "plt.bar(['18-30','31-50'],[teen,old])\n",
    "_=plt.xlabel( 'Age Group' )\n",
    "_=plt.ylabel( 'Number of Incidents' )\n",
    "_=plt.title( 'Incidents in Age groups  ' )\n"
   ]
  },
  {
   "cell_type": "code",
   "execution_count": 55,
   "metadata": {},
   "outputs": [
    {
     "name": "stdout",
     "output_type": "stream",
     "text": [
      "Percentage of Incidents involving people of age 18 to 30 is 0.6178205024638501 %\n"
     ]
    }
   ],
   "source": [
    "print('Percentage of Incidents involving people of age 18 to 30 is',(teen/(teen+old) ),'%')"
   ]
  },
  {
   "cell_type": "code",
   "execution_count": 56,
   "metadata": {},
   "outputs": [
    {
     "name": "stdout",
     "output_type": "stream",
     "text": [
      "Percentage of Incidents involving people of age 18 to 30 is 0.6185930962343096 %\n"
     ]
    }
   ],
   "source": [
    "print('Percentage of Incidents involving people of age 18 to 30 is',old/teen,'%')"
   ]
  },
  {
   "cell_type": "markdown",
   "metadata": {},
   "source": [
    "## Documentation on cleaning and tidying\n"
   ]
  },
  {
   "cell_type": "raw",
   "metadata": {},
   "source": [
    "Columns before Tidying : 'Incident Id', 'Primary Charge', 'Street', 'City', 'State', 'Zipcode', 'Date of Arrest', 'Time of Arrest', \n",
    "                         'Age', 'Race', 'Gender', 'Ethnicity', 'Type of Arrest', 'Drugs or Alcohol Present',\n",
    "                         'Weapon Present', 'Disposition', 'latitude_longitude'.\n",
    "       \n",
    "       \n",
    "1) The data had null values in many columns,So after analyzing the missing data I decided to drop null values from Age and Drugs or Alcohol Present columns.\n",
    "\n",
    "2) The 'latitude_longitude' column had 2 fields seperated by comma so I had to split it into two columns - Latitudea and Longitude.\n",
    "    Converted the column data types to float. \n",
    "     After splitting the latitude_longitude column , I removed it.     \n",
    " \n",
    "3) 'Date of Arrest' and 'Time of Arrest' were merged into one column 'Date and Time of Arrest' and then changed the data type from object to datetime.\n",
    " \n",
    "4) Changed data type of 'Age'and 'Zipcode' from float to int. \n",
    "\n",
    "5) Corrected five Zipcode values which were out of bound.\n",
    "       \n",
    "Final Columns = 'Incident Id', 'Primary Charge', 'Street', 'City', 'Zipcode', 'Age','Race', 'Gender', 'Ethnicity', 'Type of Arrest',\n",
    "                 'Drugs or Alcohol Present', 'Weapon Present', 'Disposition', 'Latitude', 'Longitude', 'Date and Time of Arrest'"
   ]
  },
  {
   "cell_type": "markdown",
   "metadata": {},
   "source": [
    "Analysis :\n",
    "The Zipcode column is now correct (5 digits). \n",
    "The latitude and longitude was converted from object to float."
   ]
  },
  {
   "cell_type": "raw",
   "metadata": {},
   "source": [
    "I learned :\n",
    "    how to analyse the data using various methods,\n",
    "    the whole process of Cleaning  the data,\n",
    "    how to choose suitable visualisation and applying it to the data.  \n",
    "    "
   ]
  }
 ],
 "metadata": {
  "kernelspec": {
   "display_name": "Python 3",
   "language": "python",
   "name": "python3"
  },
  "language_info": {
   "codemirror_mode": {
    "name": "ipython",
    "version": 3
   },
   "file_extension": ".py",
   "mimetype": "text/x-python",
   "name": "python",
   "nbconvert_exporter": "python",
   "pygments_lexer": "ipython3",
   "version": "3.7.4"
  }
 },
 "nbformat": 4,
 "nbformat_minor": 4
}
